{
 "cells": [
  {
   "cell_type": "code",
   "execution_count": 1,
   "metadata": {},
   "outputs": [],
   "source": [
    "import os\n",
    "import pandas as pd\n",
    "from relm.histogram import Histogram\n",
    "from relm.mechanisms import SmallDB\n",
    "import numpy as np\n",
    "from itertools import product\n",
    "import scipy.sparse as sps"
   ]
  },
  {
   "cell_type": "code",
   "execution_count": 2,
   "metadata": {},
   "outputs": [],
   "source": [
    "data = pd.DataFrame()\n",
    "test_results = np.random.choice([\"Negative\", \"Positive\", \"N/A\"], size=10000, p=[0.55,0.35,0.1]) \n",
    "data[\"Test Result\"] = test_results\n",
    "\n",
    "hist = Histogram(data)\n",
    "real_database = hist.get_db()\n",
    "db_size = real_database.size"
   ]
  },
  {
   "cell_type": "code",
   "execution_count": 3,
   "metadata": {},
   "outputs": [],
   "source": [
    "from itertools import product\n",
    "\n",
    "queries = [[{\"Test Result\": \"Negative\"}, {\"Test Result\": \"Positive\"}],\n",
    "           [{\"Test Result\": \"Positive\"}, {\"Test Result\": \"N/A\"}],\n",
    "           [{\"Test Result\": \"Negative\"}, {\"Test Result\": \"N/A\"}]]\n",
    "queries = sps.vstack([hist.get_query_vector(q) for q in queries])\n",
    "\n",
    "# queries = np.array([[1,1,0],\n",
    "#                     [0,1,1],\n",
    "#                     [1,0,1]])\n",
    "# queries = sps.csr.csr_matrix(queries)\n",
    "\n",
    "values = (queries @ real_database)/real_database.sum()"
   ]
  },
  {
   "cell_type": "code",
   "execution_count": 4,
   "metadata": {},
   "outputs": [],
   "source": [
    "smalldb = SmallDB(epsilon=1.0, alpha=0.05)"
   ]
  },
  {
   "cell_type": "code",
   "execution_count": 5,
   "metadata": {},
   "outputs": [],
   "source": [
    "synthetic_database = smalldb.release(values, queries, db_size)"
   ]
  },
  {
   "cell_type": "code",
   "execution_count": 6,
   "metadata": {},
   "outputs": [],
   "source": [
    "TRIALS = 2**4\n",
    "synthetic_responses = np.empty((TRIALS, queries.shape[0]))\n",
    "for i in range(TRIALS):\n",
    "    smalldb = SmallDB(epsilon=1.0, alpha=0.05)\n",
    "    synthetic_database = smalldb.release(values, queries, db_size)\n",
    "    synthetic_responses[i] = (queries @ synthetic_database) / synthetic_database.sum()"
   ]
  },
  {
   "cell_type": "code",
   "execution_count": 7,
   "metadata": {},
   "outputs": [
    {
     "data": {
      "text/html": [
       "<div>\n",
       "<style scoped>\n",
       "    .dataframe tbody tr th:only-of-type {\n",
       "        vertical-align: middle;\n",
       "    }\n",
       "\n",
       "    .dataframe tbody tr th {\n",
       "        vertical-align: top;\n",
       "    }\n",
       "\n",
       "    .dataframe thead th {\n",
       "        text-align: right;\n",
       "    }\n",
       "</style>\n",
       "<table border=\"1\" class=\"dataframe\">\n",
       "  <thead>\n",
       "    <tr style=\"text-align: right;\">\n",
       "      <th></th>\n",
       "      <th>Query 0</th>\n",
       "      <th>Query 1</th>\n",
       "      <th>Query 2</th>\n",
       "    </tr>\n",
       "  </thead>\n",
       "  <tbody>\n",
       "    <tr>\n",
       "      <th>Real Responses</th>\n",
       "      <td>0.900500</td>\n",
       "      <td>0.447700</td>\n",
       "      <td>0.651800</td>\n",
       "    </tr>\n",
       "    <tr>\n",
       "      <th>TRIAL 0</th>\n",
       "      <td>0.900833</td>\n",
       "      <td>0.445833</td>\n",
       "      <td>0.653333</td>\n",
       "    </tr>\n",
       "    <tr>\n",
       "      <th>TRIAL 1</th>\n",
       "      <td>0.900833</td>\n",
       "      <td>0.449167</td>\n",
       "      <td>0.650000</td>\n",
       "    </tr>\n",
       "    <tr>\n",
       "      <th>TRIAL 2</th>\n",
       "      <td>0.901667</td>\n",
       "      <td>0.447500</td>\n",
       "      <td>0.650833</td>\n",
       "    </tr>\n",
       "    <tr>\n",
       "      <th>TRIAL 3</th>\n",
       "      <td>0.901667</td>\n",
       "      <td>0.446667</td>\n",
       "      <td>0.651667</td>\n",
       "    </tr>\n",
       "    <tr>\n",
       "      <th>TRIAL 4</th>\n",
       "      <td>0.900833</td>\n",
       "      <td>0.447500</td>\n",
       "      <td>0.651667</td>\n",
       "    </tr>\n",
       "    <tr>\n",
       "      <th>TRIAL 5</th>\n",
       "      <td>0.899167</td>\n",
       "      <td>0.447500</td>\n",
       "      <td>0.653333</td>\n",
       "    </tr>\n",
       "    <tr>\n",
       "      <th>TRIAL 6</th>\n",
       "      <td>0.896667</td>\n",
       "      <td>0.451667</td>\n",
       "      <td>0.651667</td>\n",
       "    </tr>\n",
       "    <tr>\n",
       "      <th>TRIAL 7</th>\n",
       "      <td>0.901667</td>\n",
       "      <td>0.446667</td>\n",
       "      <td>0.651667</td>\n",
       "    </tr>\n",
       "    <tr>\n",
       "      <th>TRIAL 8</th>\n",
       "      <td>0.900833</td>\n",
       "      <td>0.447500</td>\n",
       "      <td>0.651667</td>\n",
       "    </tr>\n",
       "    <tr>\n",
       "      <th>TRIAL 9</th>\n",
       "      <td>0.901667</td>\n",
       "      <td>0.444167</td>\n",
       "      <td>0.654167</td>\n",
       "    </tr>\n",
       "    <tr>\n",
       "      <th>TRIAL 10</th>\n",
       "      <td>0.898333</td>\n",
       "      <td>0.449167</td>\n",
       "      <td>0.652500</td>\n",
       "    </tr>\n",
       "    <tr>\n",
       "      <th>TRIAL 11</th>\n",
       "      <td>0.900833</td>\n",
       "      <td>0.448333</td>\n",
       "      <td>0.650833</td>\n",
       "    </tr>\n",
       "    <tr>\n",
       "      <th>TRIAL 12</th>\n",
       "      <td>0.901667</td>\n",
       "      <td>0.447500</td>\n",
       "      <td>0.650833</td>\n",
       "    </tr>\n",
       "    <tr>\n",
       "      <th>TRIAL 13</th>\n",
       "      <td>0.901667</td>\n",
       "      <td>0.447500</td>\n",
       "      <td>0.650833</td>\n",
       "    </tr>\n",
       "    <tr>\n",
       "      <th>TRIAL 14</th>\n",
       "      <td>0.900833</td>\n",
       "      <td>0.447500</td>\n",
       "      <td>0.651667</td>\n",
       "    </tr>\n",
       "    <tr>\n",
       "      <th>TRIAL 15</th>\n",
       "      <td>0.901667</td>\n",
       "      <td>0.446667</td>\n",
       "      <td>0.651667</td>\n",
       "    </tr>\n",
       "  </tbody>\n",
       "</table>\n",
       "</div>"
      ],
      "text/plain": [
       "                 Query 0   Query 1   Query 2\n",
       "Real Responses  0.900500  0.447700  0.651800\n",
       "TRIAL 0         0.900833  0.445833  0.653333\n",
       "TRIAL 1         0.900833  0.449167  0.650000\n",
       "TRIAL 2         0.901667  0.447500  0.650833\n",
       "TRIAL 3         0.901667  0.446667  0.651667\n",
       "TRIAL 4         0.900833  0.447500  0.651667\n",
       "TRIAL 5         0.899167  0.447500  0.653333\n",
       "TRIAL 6         0.896667  0.451667  0.651667\n",
       "TRIAL 7         0.901667  0.446667  0.651667\n",
       "TRIAL 8         0.900833  0.447500  0.651667\n",
       "TRIAL 9         0.901667  0.444167  0.654167\n",
       "TRIAL 10        0.898333  0.449167  0.652500\n",
       "TRIAL 11        0.900833  0.448333  0.650833\n",
       "TRIAL 12        0.901667  0.447500  0.650833\n",
       "TRIAL 13        0.901667  0.447500  0.650833\n",
       "TRIAL 14        0.900833  0.447500  0.651667\n",
       "TRIAL 15        0.901667  0.446667  0.651667"
      ]
     },
     "metadata": {},
     "output_type": "display_data"
    }
   ],
   "source": [
    "df = pd.DataFrame(data=np.row_stack((values, synthetic_responses)),\n",
    "                  columns=[\"Query %i\" % i for i in range(queries.shape[0])],\n",
    "                  index=[\"Real Responses\"] + [\"TRIAL %i\" % i for i in range(TRIALS)])\n",
    "\n",
    "display(df)"
   ]
  },
  {
   "cell_type": "code",
   "execution_count": 8,
   "metadata": {},
   "outputs": [
    {
     "name": "stdout",
     "output_type": "stream",
     "text": [
      "3\n"
     ]
    }
   ],
   "source": [
    "print(db_size)"
   ]
  },
  {
   "cell_type": "code",
   "execution_count": null,
   "metadata": {},
   "outputs": [],
   "source": []
  }
 ],
 "metadata": {
  "kernelspec": {
   "display_name": "Python 3",
   "language": "python",
   "name": "python3"
  },
  "language_info": {
   "codemirror_mode": {
    "name": "ipython",
    "version": 3
   },
   "file_extension": ".py",
   "mimetype": "text/x-python",
   "name": "python",
   "nbconvert_exporter": "python",
   "pygments_lexer": "ipython3",
   "version": "3.8.5"
  }
 },
 "nbformat": 4,
 "nbformat_minor": 4
}
