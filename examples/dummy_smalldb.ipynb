{
 "cells": [
  {
   "cell_type": "code",
   "execution_count": 8,
   "metadata": {},
   "outputs": [],
   "source": [
    "import os\n",
    "import pandas as pd\n",
    "from relm.histogram import Histogram\n",
    "from relm.mechanisms import SmallDB\n",
    "import numpy as np\n",
    "from itertools import product\n",
    "import scipy.sparse as sps"
   ]
  },
  {
   "cell_type": "code",
   "execution_count": 9,
   "metadata": {},
   "outputs": [],
   "source": [
    "df = pd.DataFrame()\n",
    "dummy = np.random.choice(np.arange(3), size=10000, p=[0.1,0.35,0.55]) \n",
    "df[\"DUMMY\"] = dummy\n",
    "\n",
    "hist = Histogram(df)\n",
    "real_database = hist.get_db()"
   ]
  },
  {
   "cell_type": "code",
   "execution_count": 10,
   "metadata": {},
   "outputs": [],
   "source": [
    "from itertools import product\n",
    "queries = []\n",
    "\n",
    "cols = [\"DUMMY\"]\n",
    "vals = product(*[list(hist.column_sets[hist.column_dict[c]]) for c in cols])\n",
    "queries.extend(dict(zip(cols, val)) for val in vals)\n",
    "\n",
    "queries = sps.vstack([hist.get_query_vector(q) for q in queries])\n",
    "\n",
    "queries = np.array([[1,1,0],\n",
    "                    [0,1,1],\n",
    "                    [1,0,1]])\n",
    "queries = sps.csr.csr_matrix(queries)"
   ]
  },
  {
   "cell_type": "code",
   "execution_count": 11,
   "metadata": {},
   "outputs": [],
   "source": [
    "smalldb = SmallDB(epsilon=1.0, data=real_database, alpha=0.05)"
   ]
  },
  {
   "cell_type": "code",
   "execution_count": 12,
   "metadata": {},
   "outputs": [],
   "source": [
    "synthetic_database = smalldb.release(queries)"
   ]
  },
  {
   "cell_type": "code",
   "execution_count": 13,
   "metadata": {},
   "outputs": [],
   "source": [
    "real_responses = (queries @ real_database)/real_database.sum()\n",
    "synthetic_responses = (queries @ synthetic_database) / synthetic_database.sum()"
   ]
  },
  {
   "cell_type": "code",
   "execution_count": 14,
   "metadata": {},
   "outputs": [
    {
     "name": "stdout",
     "output_type": "stream",
     "text": [
      "[0.4639 0.894  0.6421]\n",
      "[0.46416667 0.8925     0.64333333]\n"
     ]
    }
   ],
   "source": [
    "print(real_responses)\n",
    "print(synthetic_responses)"
   ]
  },
  {
   "cell_type": "code",
   "execution_count": null,
   "metadata": {},
   "outputs": [],
   "source": []
  },
  {
   "cell_type": "code",
   "execution_count": null,
   "metadata": {},
   "outputs": [],
   "source": []
  }
 ],
 "metadata": {
  "kernelspec": {
   "display_name": "Python 3",
   "language": "python",
   "name": "python3"
  },
  "language_info": {
   "codemirror_mode": {
    "name": "ipython",
    "version": 3
   },
   "file_extension": ".py",
   "mimetype": "text/x-python",
   "name": "python",
   "nbconvert_exporter": "python",
   "pygments_lexer": "ipython3",
   "version": "3.8.5"
  }
 },
 "nbformat": 4,
 "nbformat_minor": 4
}
