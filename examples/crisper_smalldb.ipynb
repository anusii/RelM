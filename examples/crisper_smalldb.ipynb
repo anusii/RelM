{
 "cells": [
  {
   "cell_type": "code",
   "execution_count": null,
   "metadata": {},
   "outputs": [],
   "source": [
    "import os\n",
    "import pandas as pd\n",
    "from relm.histogram import Histogram\n",
    "from relm.mechanisms import SmallDB\n",
    "import numpy as np\n",
    "from itertools import product\n",
    "import scipy.sparse as sps"
   ]
  },
  {
   "cell_type": "code",
   "execution_count": null,
   "metadata": {},
   "outputs": [],
   "source": [
    "fp = '20200811_QLD_dummy_dataset_individual_v2.xlsx'\n",
    "df = pd.read_excel(fp)\n",
    "# df.drop([\"NOTF_ID\", \"LGA\", \"HHS\"] + list(df.columns[12:]), axis=1, inplace=True)\n",
    "df.drop(list(df.columns[1:6]) + list(df.columns[7:]), axis=1, inplace=True)\n",
    "hist = Histogram(df)\n",
    "real_database = hist.get_db()"
   ]
  },
  {
   "cell_type": "code",
   "execution_count": null,
   "metadata": {},
   "outputs": [],
   "source": [
    "from itertools import product\n",
    "# _cols = [\"AGEGRP5\", \"SEX\", \"INDIG_STATUS\"]\n",
    "queries = []\n",
    "\n",
    "# # this creates the queries for:\n",
    "# # df.groupby([\"AGEGRP5\", \"SEX\", \"INDIG_STATUS\", col]).count()\n",
    "# # where col is in [\"HOSPITALISED\", \"VENTILATED\", \"ICU\", \"DIED_OF_CONDITION\"]\n",
    "# for col in [\"HOSPITALISED\", \"VENTILATED\", \"ICU\", \"DIED_OF_CONDITION\"]:\n",
    "#     cols = _cols + [col,]\n",
    "#     vals = product(*[list(hist.column_sets[hist.column_dict[c]]) for c in cols])\n",
    "#     queries.extend(dict(zip(cols, val)) for val in vals)\n",
    "\n",
    "# # this creates the queries for:\n",
    "# # df.groupby([\"ONSET_DATE\", \"AGEGRP5\", \"INDIG_STATUS\", \"SEX\"]).count()\n",
    "# cols = [\"ONSET_DATE\", \"AGEGRP5\", \"INDIG_STATUS\", \"SEX\"]\n",
    "# vals = product(*[list(hist.column_sets[hist.column_dict[c]]) for c in cols])\n",
    "# queries.extend(dict(zip(cols, val)) for val in vals)\n",
    "\n",
    "# this creates the queries for:\n",
    "# df.groupby([\"ONSET_DATE\", \"POSTCODE\"]).count()\n",
    "cols = [\"ONSET_DATE\", \"POSTCODE\"]\n",
    "vals = product(*[list(hist.column_sets[hist.column_dict[c]]) for c in cols])\n",
    "queries.extend(dict(zip(cols, val)) for val in vals)\n",
    "\n",
    "queries = sps.vstack([hist.get_query_vector(q) for q in queries])"
   ]
  },
  {
   "cell_type": "code",
   "execution_count": null,
   "metadata": {},
   "outputs": [],
   "source": [
    "smalldb = SmallDB(epsilon=0.001, data=real_database, alpha=0.1)"
   ]
  },
  {
   "cell_type": "code",
   "execution_count": null,
   "metadata": {},
   "outputs": [],
   "source": [
    "synthetic_database = smalldb.release(queries)"
   ]
  },
  {
   "cell_type": "code",
   "execution_count": null,
   "metadata": {},
   "outputs": [],
   "source": [
    "real_responses = (queries @ real_database)/real_database.sum()\n",
    "synthetic_responses = (queries @ synthetic_database) / synthetic_database.sum()"
   ]
  },
  {
   "cell_type": "code",
   "execution_count": null,
   "metadata": {},
   "outputs": [],
   "source": [
    "print(real_responses)\n",
    "print(synthetic_responses)"
   ]
  },
  {
   "cell_type": "code",
   "execution_count": null,
   "metadata": {},
   "outputs": [],
   "source": [
    "queries"
   ]
  },
  {
   "cell_type": "code",
   "execution_count": null,
   "metadata": {},
   "outputs": [],
   "source": []
  }
 ],
 "metadata": {
  "kernelspec": {
   "display_name": "Python 3",
   "language": "python",
   "name": "python3"
  },
  "language_info": {
   "codemirror_mode": {
    "name": "ipython",
    "version": 3
   },
   "file_extension": ".py",
   "mimetype": "text/x-python",
   "name": "python",
   "nbconvert_exporter": "python",
   "pygments_lexer": "ipython3",
   "version": "3.8.5"
  }
 },
 "nbformat": 4,
 "nbformat_minor": 4
}
