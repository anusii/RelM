{
 "cells": [
  {
   "cell_type": "code",
   "execution_count": 1,
   "metadata": {},
   "outputs": [],
   "source": [
    "import os\n",
    "import pandas as pd\n",
    "from relm.histogram import Histogram\n",
    "from relm.mechanisms import SmallDB\n",
    "import numpy as np\n",
    "from itertools import product\n",
    "import scipy.sparse as sps"
   ]
  },
  {
   "cell_type": "code",
   "execution_count": 36,
   "metadata": {},
   "outputs": [],
   "source": [
    "fp = '20200811_QLD_dummy_dataset_individual_v2.xlsx'\n",
    "df = pd.read_excel(fp)\n",
    "df.drop([\"NOTF_ID\", \"LGA\", \"HHS\"] + list(df.columns[12:]), axis=1, inplace=True)\n",
    "\n",
    "hist = Histogram(df)\n",
    "real_database = hist.get_db()"
   ]
  },
  {
   "cell_type": "code",
   "execution_count": 37,
   "metadata": {},
   "outputs": [],
   "source": [
    "from itertools import product\n",
    "queries = []\n",
    "\n",
    "cols = [\"AGEGRP5\"]\n",
    "vals = product(*[list(hist.column_sets[hist.column_dict[c]]) for c in cols])\n",
    "queries.extend(dict(zip(cols, val)) for val in vals)\n",
    "\n",
    "queries = sps.vstack([hist.get_query_vector(q) for q in queries])"
   ]
  },
  {
   "cell_type": "code",
   "execution_count": 38,
   "metadata": {},
   "outputs": [],
   "source": [
    "smalldb = SmallDB(epsilon=4.0, data=real_database, alpha=0.001)"
   ]
  },
  {
   "cell_type": "code",
   "execution_count": 39,
   "metadata": {},
   "outputs": [
    {
     "name": "stdout",
     "output_type": "stream",
     "text": [
      "CPU times: user 4.32 s, sys: 502 ms, total: 4.83 s\n",
      "Wall time: 4.83 s\n"
     ]
    }
   ],
   "source": [
    "%time synthetic_database = smalldb.release(queries)"
   ]
  },
  {
   "cell_type": "code",
   "execution_count": 42,
   "metadata": {},
   "outputs": [
    {
     "name": "stdout",
     "output_type": "stream",
     "text": [
      "(28554240,)\n",
      "(28554240,)\n",
      "(10, 28554240)\n"
     ]
    }
   ],
   "source": [
    "print(real_database.shape)\n",
    "print(synthetic_database.shape)\n",
    "print(queries.shape)"
   ]
  },
  {
   "cell_type": "code",
   "execution_count": 45,
   "metadata": {},
   "outputs": [],
   "source": [
    "real_responses = (queries @ real_database)/real_database.sum()\n",
    "synthetic_responses = (queries @ synthetic_database) / synthetic_database.sum()"
   ]
  },
  {
   "cell_type": "code",
   "execution_count": 46,
   "metadata": {},
   "outputs": [
    {
     "name": "stdout",
     "output_type": "stream",
     "text": [
      "[0.0113 0.0103 0.2348 0.1523 0.1408 0.1436 0.1028 0.0889 0.0955 0.0197]\n",
      "[0.10003129 0.09983509 0.10008959 0.10009699 0.10006889 0.10003929\n",
      " 0.09992659 0.09997089 0.10002019 0.09992119]\n"
     ]
    }
   ],
   "source": [
    "print(real_responses)\n",
    "print(synthetic_responses)"
   ]
  },
  {
   "cell_type": "code",
   "execution_count": null,
   "metadata": {},
   "outputs": [],
   "source": []
  }
 ],
 "metadata": {
  "kernelspec": {
   "display_name": "Python 3",
   "language": "python",
   "name": "python3"
  },
  "language_info": {
   "codemirror_mode": {
    "name": "ipython",
    "version": 3
   },
   "file_extension": ".py",
   "mimetype": "text/x-python",
   "name": "python",
   "nbconvert_exporter": "python",
   "pygments_lexer": "ipython3",
   "version": "3.7.6"
  }
 },
 "nbformat": 4,
 "nbformat_minor": 4
}
