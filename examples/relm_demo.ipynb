{
 "cells": [
  {
   "cell_type": "markdown",
   "metadata": {},
   "source": [
    "## Histogram Queries\n",
    "Using RelM for basic differentially private release is fairly striaghtforward.\n",
    "For example, suppose that the database consists of records indicating the age group of each patient who received a COVID-19 test on 09 March, 2020.\n",
    "Each patient is classified as belonging to one of eight age groups: 0-9, 10-19, 20-29, 30-39, 40-49, 50-59, 60-69, and 70+.\n",
    "One common way to summarise this kind of data is with a histogram.\n",
    "That is, to report the number of patients that were classified as belonging to each age group.\n",
    "\n",
    "The Laplace mechanism can be used to produce a differentially private histogram that summarises the data without compromising the privacy of the patients whose data comprise the database. To do so, Laplace noise is added to the count for each age group and the noisy counts are released instead of the exact counts."
   ]
  },
  {
   "cell_type": "markdown",
   "metadata": {},
   "source": [
    "### Basic Usage\n",
    "To produce such a differentially private histogram using Relm a user would:\n",
    "   - Read the raw data\n",
    "   - Compute the exact query responses\n",
    "   - Create a differentially private release mechanism\n",
    "   - Compute perturbed query responses"
   ]
  },
  {
   "cell_type": "code",
   "execution_count": 1,
   "metadata": {},
   "outputs": [],
   "source": [
    "import numpy as np\n",
    "import pandas as pd\n",
    "import matplotlib.pyplot as plt\n",
    "\n",
    "from collections import Counter\n",
    "from tabulate import tabulate"
   ]
  },
  {
   "cell_type": "code",
   "execution_count": 2,
   "metadata": {},
   "outputs": [],
   "source": [
    "# Read the raw data\n",
    "data = pd.read_csv(\"pcr_testing_age_group_2020-03-09.csv\")\n",
    "\n",
    "# Compute the exact query responses\n",
    "exact_counts = data[\"age_group\"].value_counts().sort_index()\n",
    "values = exact_counts.values"
   ]
  },
  {
   "cell_type": "code",
   "execution_count": 3,
   "metadata": {},
   "outputs": [],
   "source": [
    "# Create a differentially private release mechanism\n",
    "from relm.mechanisms import LaplaceMechanism\n",
    "mechanism = LaplaceMechanism(epsilon=0.1, sensitivity=1.0, precision=35)\n",
    "\n",
    "# Compute perturbed query response\n",
    "perturbed_counts = mechanism.release(values=values.astype(np.float))"
   ]
  },
  {
   "cell_type": "markdown",
   "metadata": {},
   "source": [
    "### Visualising the Results\n",
    "Notice that the magnitude of the differences between the exact counts and perturbed counts depends only on the value of the privacy paramter `epsilon`. Smaller values of epsilon yield larger perturbations. Larger perturbations yeild lower utility.\n",
    "\n",
    "A simple way to try to understand this effect is to compare the two histograms to one another. If the value of `epsilon` is not too small, then we expect that the two histograms will look similar."
   ]
  },
  {
   "cell_type": "code",
   "execution_count": 4,
   "metadata": {},
   "outputs": [
    {
     "data": {
      "text/html": [
       "<style  type=\"text/css\" >\n",
       "</style><table id=\"T_154e2_\" ><caption>Test Counts by Age Group</caption><thead>    <tr>        <th class=\"blank level0\" ></th>        <th class=\"col_heading level0 col0\" >Age Group</th>        <th class=\"col_heading level0 col1\" >Exact Counts</th>        <th class=\"col_heading level0 col2\" >Perturbed Counts</th>    </tr></thead><tbody>\n",
       "                <tr>\n",
       "                        <th id=\"T_154e2_level0_row0\" class=\"row_heading level0 row0\" >0</th>\n",
       "                        <td id=\"T_154e2_row0_col0\" class=\"data row0 col0\" >0-9</td>\n",
       "                        <td id=\"T_154e2_row0_col1\" class=\"data row0 col1\" >238</td>\n",
       "                        <td id=\"T_154e2_row0_col2\" class=\"data row0 col2\" >241.968346</td>\n",
       "            </tr>\n",
       "            <tr>\n",
       "                        <th id=\"T_154e2_level0_row1\" class=\"row_heading level0 row1\" >1</th>\n",
       "                        <td id=\"T_154e2_row1_col0\" class=\"data row1 col0\" >10-19</td>\n",
       "                        <td id=\"T_154e2_row1_col1\" class=\"data row1 col1\" >386</td>\n",
       "                        <td id=\"T_154e2_row1_col2\" class=\"data row1 col2\" >371.595060</td>\n",
       "            </tr>\n",
       "            <tr>\n",
       "                        <th id=\"T_154e2_level0_row2\" class=\"row_heading level0 row2\" >2</th>\n",
       "                        <td id=\"T_154e2_row2_col0\" class=\"data row2 col0\" >20-29</td>\n",
       "                        <td id=\"T_154e2_row2_col1\" class=\"data row2 col1\" >688</td>\n",
       "                        <td id=\"T_154e2_row2_col2\" class=\"data row2 col2\" >682.629824</td>\n",
       "            </tr>\n",
       "            <tr>\n",
       "                        <th id=\"T_154e2_level0_row3\" class=\"row_heading level0 row3\" >3</th>\n",
       "                        <td id=\"T_154e2_row3_col0\" class=\"data row3 col0\" >30-39</td>\n",
       "                        <td id=\"T_154e2_row3_col1\" class=\"data row3 col1\" >779</td>\n",
       "                        <td id=\"T_154e2_row3_col2\" class=\"data row3 col2\" >768.288186</td>\n",
       "            </tr>\n",
       "            <tr>\n",
       "                        <th id=\"T_154e2_level0_row4\" class=\"row_heading level0 row4\" >4</th>\n",
       "                        <td id=\"T_154e2_row4_col0\" class=\"data row4 col0\" >40-49</td>\n",
       "                        <td id=\"T_154e2_row4_col1\" class=\"data row4 col1\" >621</td>\n",
       "                        <td id=\"T_154e2_row4_col2\" class=\"data row4 col2\" >625.749218</td>\n",
       "            </tr>\n",
       "            <tr>\n",
       "                        <th id=\"T_154e2_level0_row5\" class=\"row_heading level0 row5\" >5</th>\n",
       "                        <td id=\"T_154e2_row5_col0\" class=\"data row5 col0\" >50-59</td>\n",
       "                        <td id=\"T_154e2_row5_col1\" class=\"data row5 col1\" >582</td>\n",
       "                        <td id=\"T_154e2_row5_col2\" class=\"data row5 col2\" >577.070481</td>\n",
       "            </tr>\n",
       "            <tr>\n",
       "                        <th id=\"T_154e2_level0_row6\" class=\"row_heading level0 row6\" >6</th>\n",
       "                        <td id=\"T_154e2_row6_col0\" class=\"data row6 col0\" >60-69</td>\n",
       "                        <td id=\"T_154e2_row6_col1\" class=\"data row6 col1\" >344</td>\n",
       "                        <td id=\"T_154e2_row6_col2\" class=\"data row6 col2\" >287.981099</td>\n",
       "            </tr>\n",
       "            <tr>\n",
       "                        <th id=\"T_154e2_level0_row7\" class=\"row_heading level0 row7\" >7</th>\n",
       "                        <td id=\"T_154e2_row7_col0\" class=\"data row7 col0\" >70+</td>\n",
       "                        <td id=\"T_154e2_row7_col1\" class=\"data row7 col1\" >261</td>\n",
       "                        <td id=\"T_154e2_row7_col2\" class=\"data row7 col2\" >256.436250</td>\n",
       "            </tr>\n",
       "    </tbody></table>"
      ],
      "text/plain": [
       "<pandas.io.formats.style.Styler at 0x116070a10>"
      ]
     },
     "metadata": {},
     "output_type": "display_data"
    },
    {
     "data": {
      "image/png": "[encoded data removed]",
      "text/plain": [
       "<Figure size 432x288 with 1 Axes>"
      ]
     },
     "metadata": {
      "needs_background": "light"
     },
     "output_type": "display_data"
    }
   ],
   "source": [
    "# Extract the set of possible age groups\n",
    "age_groups = np.sort(data[\"age_group\"].unique())\n",
    "# Reformat the age group names for nicer display\n",
    "age_ranges = np.array([a.lstrip(\"AgeGroup_\") for a in age_groups])\n",
    "\n",
    "# Create a dataframe with both exact and perturbed counts\n",
    "df = pd.DataFrame(\n",
    "    {\n",
    "        \"Age Group\": age_ranges,\n",
    "        \"Exact Counts\": values,\n",
    "        \"Perturbed Counts\": perturbed_counts,\n",
    "    }\n",
    ")\n",
    "\n",
    "# Display the two histograms as a table\n",
    "display(df.style.set_caption(\"Test Counts by Age Group\"))\n",
    "\n",
    "# Plot the two histograms as bar graphs\n",
    "df.plot(x=\"Age Group\", title=\"Test Counts by Age Group\", kind=\"bar\", rot=0)\n",
    "plt.show()"
   ]
  },
  {
   "cell_type": "markdown",
   "metadata": {},
   "source": [
    "## Integer Counts\n",
    "In this example, all of the exact counts are integers.  That is because they are the result of so-called counting queries. The perturbed counts produced by the Laplace mechanism are real-valued. In some applications, e.g. when some downstream processing assumes it will receive integer-valued data, we may need the perturbed counts to be integers. One way to achieve this is by simply rounding the outputs of the Laplace mechanism to the nearest integer. Because this differentially private release mechanisms are not affected by this kind of post-processing, doing so will not affect any privacy guarantees.\n",
    "\n",
    "Alternatively, we could use the geometric mechanism to compute the permuted counts.  The geometric mechanism is simply a discrete version of the Laplace mechanism and it produces integer valued perturbations."
   ]
  },
  {
   "cell_type": "markdown",
   "metadata": {},
   "source": [
    "### Basic Usage\n",
    "As before, to produce such a differentially private histogram using Relm a user would:\n",
    "   - Read the raw data\n",
    "   - Compute the exact query responses\n",
    "   - Create a differentially private release mechanism\n",
    "   - Compute perturbed query responses"
   ]
  },
  {
   "cell_type": "code",
   "execution_count": 5,
   "metadata": {},
   "outputs": [],
   "source": [
    "# Create a differentially private release mechanism\n",
    "from relm.mechanisms import GeometricMechanism\n",
    "mechanism = GeometricMechanism(epsilon=0.1, sensitivity=1.0)\n",
    "\n",
    "# Compute perturbed query response\n",
    "perturbed_counts = mechanism.release(values=values)"
   ]
  },
  {
   "cell_type": "markdown",
   "metadata": {},
   "source": [
    "### Visualising the Results\n",
    "As with the Laplace mechanism, we can plot the exact histogram alongside the differentially private histogram to get an idea if we have used too small a value for `epsilon`."
   ]
  },
  {
   "cell_type": "code",
   "execution_count": 6,
   "metadata": {},
   "outputs": [
    {
     "data": {
      "text/html": [
       "<style  type=\"text/css\" >\n",
       "</style><table id=\"T_e629f_\" ><caption>Test Counts by Age Group</caption><thead>    <tr>        <th class=\"blank level0\" ></th>        <th class=\"col_heading level0 col0\" >Age Group</th>        <th class=\"col_heading level0 col1\" >Exact Counts</th>        <th class=\"col_heading level0 col2\" >Perturbed Counts</th>    </tr></thead><tbody>\n",
       "                <tr>\n",
       "                        <th id=\"T_e629f_level0_row0\" class=\"row_heading level0 row0\" >0</th>\n",
       "                        <td id=\"T_e629f_row0_col0\" class=\"data row0 col0\" >0-9</td>\n",
       "                        <td id=\"T_e629f_row0_col1\" class=\"data row0 col1\" >238</td>\n",
       "                        <td id=\"T_e629f_row0_col2\" class=\"data row0 col2\" >236</td>\n",
       "            </tr>\n",
       "            <tr>\n",
       "                        <th id=\"T_e629f_level0_row1\" class=\"row_heading level0 row1\" >1</th>\n",
       "                        <td id=\"T_e629f_row1_col0\" class=\"data row1 col0\" >10-19</td>\n",
       "                        <td id=\"T_e629f_row1_col1\" class=\"data row1 col1\" >386</td>\n",
       "                        <td id=\"T_e629f_row1_col2\" class=\"data row1 col2\" >375</td>\n",
       "            </tr>\n",
       "            <tr>\n",
       "                        <th id=\"T_e629f_level0_row2\" class=\"row_heading level0 row2\" >2</th>\n",
       "                        <td id=\"T_e629f_row2_col0\" class=\"data row2 col0\" >20-29</td>\n",
       "                        <td id=\"T_e629f_row2_col1\" class=\"data row2 col1\" >688</td>\n",
       "                        <td id=\"T_e629f_row2_col2\" class=\"data row2 col2\" >679</td>\n",
       "            </tr>\n",
       "            <tr>\n",
       "                        <th id=\"T_e629f_level0_row3\" class=\"row_heading level0 row3\" >3</th>\n",
       "                        <td id=\"T_e629f_row3_col0\" class=\"data row3 col0\" >30-39</td>\n",
       "                        <td id=\"T_e629f_row3_col1\" class=\"data row3 col1\" >779</td>\n",
       "                        <td id=\"T_e629f_row3_col2\" class=\"data row3 col2\" >778</td>\n",
       "            </tr>\n",
       "            <tr>\n",
       "                        <th id=\"T_e629f_level0_row4\" class=\"row_heading level0 row4\" >4</th>\n",
       "                        <td id=\"T_e629f_row4_col0\" class=\"data row4 col0\" >40-49</td>\n",
       "                        <td id=\"T_e629f_row4_col1\" class=\"data row4 col1\" >621</td>\n",
       "                        <td id=\"T_e629f_row4_col2\" class=\"data row4 col2\" >664</td>\n",
       "            </tr>\n",
       "            <tr>\n",
       "                        <th id=\"T_e629f_level0_row5\" class=\"row_heading level0 row5\" >5</th>\n",
       "                        <td id=\"T_e629f_row5_col0\" class=\"data row5 col0\" >50-59</td>\n",
       "                        <td id=\"T_e629f_row5_col1\" class=\"data row5 col1\" >582</td>\n",
       "                        <td id=\"T_e629f_row5_col2\" class=\"data row5 col2\" >588</td>\n",
       "            </tr>\n",
       "            <tr>\n",
       "                        <th id=\"T_e629f_level0_row6\" class=\"row_heading level0 row6\" >6</th>\n",
       "                        <td id=\"T_e629f_row6_col0\" class=\"data row6 col0\" >60-69</td>\n",
       "                        <td id=\"T_e629f_row6_col1\" class=\"data row6 col1\" >344</td>\n",
       "                        <td id=\"T_e629f_row6_col2\" class=\"data row6 col2\" >358</td>\n",
       "            </tr>\n",
       "            <tr>\n",
       "                        <th id=\"T_e629f_level0_row7\" class=\"row_heading level0 row7\" >7</th>\n",
       "                        <td id=\"T_e629f_row7_col0\" class=\"data row7 col0\" >70+</td>\n",
       "                        <td id=\"T_e629f_row7_col1\" class=\"data row7 col1\" >261</td>\n",
       "                        <td id=\"T_e629f_row7_col2\" class=\"data row7 col2\" >219</td>\n",
       "            </tr>\n",
       "    </tbody></table>"
      ],
      "text/plain": [
       "<pandas.io.formats.style.Styler at 0x116a3dad0>"
      ]
     },
     "metadata": {},
     "output_type": "display_data"
    },
    {
     "data": {
      "image/png": "[encoded data removed]",
      "text/plain": [
       "<Figure size 432x288 with 1 Axes>"
      ]
     },
     "metadata": {
      "needs_background": "light"
     },
     "output_type": "display_data"
    }
   ],
   "source": [
    "# Extract the set of possible age groups\n",
    "age_groups = np.sort(data[\"age_group\"].unique())\n",
    "# Reformat the age group names for nicer display\n",
    "age_ranges = np.array([a.lstrip(\"AgeGroup_\") for a in age_groups])\n",
    "\n",
    "# Create a dataframe with both exact and perturbed counts\n",
    "df = pd.DataFrame(\n",
    "    {\n",
    "        \"Age Group\": age_ranges,\n",
    "        \"Exact Counts\": values,\n",
    "        \"Perturbed Counts\": perturbed_counts,\n",
    "    }\n",
    ")\n",
    "\n",
    "# Display the two histograms as a table\n",
    "display(df.style.set_caption(\"Test Counts by Age Group\"))\n",
    "\n",
    "# Plot the two histograms as bar graphs\n",
    "df.plot(x=\"Age Group\", title=\"Test Counts by Age Group\", kind=\"bar\", rot=0)\n",
    "plt.show()"
   ]
  },
  {
   "cell_type": "markdown",
   "metadata": {},
   "source": [
    "## Sparse Mechanisms\n",
    "We have three mechanisms that take advantage of sparsity to answer more queries about the data for a given privacy budget. All of these mechanisms compare noisy query responses to a noisy threshold value. If a noisy response does not exceed the noisy threshold, then the mechanism reports only that the value did not exceed the threshold.  Otherwise, the mechanism reports that the value exceeded the threshold. Furthermore, in the latter case some mechanisms release more information about the underlying exact count. This extra information is computed using some other differentially private mechanism and therefore imposes some additional privacy costs."
   ]
  },
  {
   "cell_type": "markdown",
   "metadata": {},
   "source": [
    "### Data Wrangling\n",
    "All three of our mechanims share an input format. We require a sequence of exact query responses and a threshold value to which these responses will be compared."
   ]
  },
  {
   "cell_type": "code",
   "execution_count": 7,
   "metadata": {},
   "outputs": [],
   "source": [
    "# Read the raw data\n",
    "fp = '20200811_QLD_dummy_dataset_individual_v2.xlsx'\n",
    "data = pd.read_excel(fp)\n",
    "\n",
    "# Limit our attention to the onset date column\n",
    "data.drop(list(data.columns[1:]), axis=1, inplace=True)  \n",
    "\n",
    "# Remove data with no onset date listed\n",
    "mask = data['ONSET_DATE'].notna()\n",
    "data = data[mask]\n",
    "\n",
    "# Compute the exact query responses\n",
    "queries = [(pd.Timestamp('2020-01-01')  + i*pd.Timedelta('1d'),) for i in range(366)]\n",
    "exact_counts = dict.fromkeys(queries, 0)\n",
    "exact_counts.update(data.value_counts())\n",
    "\n",
    "dates, values = zip(*sorted(exact_counts.items()))\n",
    "values = np.array(values, dtype=np.float64)\n",
    "\n",
    "# Set the threshold value\n",
    "threshold = 100"
   ]
  },
  {
   "cell_type": "markdown",
   "metadata": {},
   "source": [
    "### Above Threshold\n",
    "The simplest of the sparse release mechanisms simply reports the index of the first query response that exceeds the specified threshold."
   ]
  },
  {
   "cell_type": "markdown",
   "metadata": {},
   "source": [
    "#### Basic Usage"
   ]
  },
  {
   "cell_type": "code",
   "execution_count": 8,
   "metadata": {},
   "outputs": [],
   "source": [
    "from relm.mechanisms import AboveThreshold\n",
    "mechanism = AboveThreshold(epsilon=1.0, sensitivity=1.0, threshold=threshold)\n",
    "index = mechanism.release(values)"
   ]
  },
  {
   "cell_type": "markdown",
   "metadata": {},
   "source": [
    "#### Empirical Distribution\n",
    "Because `AboveThreshold` returns a single index, we can run many experiments and plot a histogram of the results of those experiments to get an empirical estimate of the distribution of the mechanism's output."
   ]
  },
  {
   "cell_type": "code",
   "execution_count": 9,
   "metadata": {},
   "outputs": [],
   "source": [
    "TRIALS = 2**10\n",
    "results = np.zeros(TRIALS)\n",
    "for i in range(TRIALS):\n",
    "    mechanism = AboveThreshold(epsilon=1.0, sensitivity=1.0, threshold=threshold)\n",
    "    index = mechanism.release(values)\n",
    "    results[i] = index    "
   ]
  },
  {
   "cell_type": "markdown",
   "metadata": {},
   "source": [
    "#### Visualising the Results"
   ]
  },
  {
   "cell_type": "code",
   "execution_count": 10,
   "metadata": {},
   "outputs": [
    {
     "name": "stdout",
     "output_type": "stream",
     "text": [
      "The index of the first exact count that exceeds the threshold is: 105\n",
      "\n"
     ]
    },
    {
     "data": {
      "text/plain": [
       "<matplotlib.lines.Line2D at 0x1161bf710>"
      ]
     },
     "execution_count": 10,
     "metadata": {},
     "output_type": "execute_result"
    },
    {
     "data": {
      "image/png": "[encoded data removed]",
      "text/plain": [
       "<Figure size 432x288 with 1 Axes>"
      ]
     },
     "metadata": {
      "needs_background": "light"
     },
     "output_type": "display_data"
    }
   ],
   "source": [
    "print(\"The index of the first exact count that exceeds the threshold is: %i\\n\" % np.argmax(values >= threshold))\n",
    "\n",
    "histogram = dict.fromkeys(np.arange(min(results), max(results)), 0)\n",
    "histogram.update(Counter(results))\n",
    "\n",
    "plt.xlabel(\"Index\")\n",
    "plt.ylabel(\"Count\")\n",
    "plt.title(\"Distribution of above_threshold.release(values)\")\n",
    "plt.plot(list(histogram.keys()), list(histogram.values()))\n",
    "plt.axvline(x=np.argmax(values >= threshold), color='orange')"
   ]
  },
  {
   "cell_type": "markdown",
   "metadata": {},
   "source": [
    "### Sparse Indicator\n",
    "The `SparseIndicator` is a straightforward extension of the `AboveThreshold` mechanism.  Here, we find the indices of several values that exceeds the specified threshold. The number of indices that this mechanism will return is controlled by the `cutoff` parameter."
   ]
  },
  {
   "cell_type": "markdown",
   "metadata": {},
   "source": [
    "#### Basic Usage"
   ]
  },
  {
   "cell_type": "code",
   "execution_count": 11,
   "metadata": {},
   "outputs": [],
   "source": [
    "from relm.mechanisms import SparseIndicator\n",
    "mechanism = SparseIndicator(epsilon=1.0, sensitivity=1.0, threshold=100, cutoff=3)\n",
    "indices = mechanism.release(values)"
   ]
  },
  {
   "cell_type": "markdown",
   "metadata": {},
   "source": [
    "#### Visualise the Results"
   ]
  },
  {
   "cell_type": "code",
   "execution_count": 12,
   "metadata": {},
   "outputs": [
    {
     "name": "stdout",
     "output_type": "stream",
     "text": [
      "---  ---  ---\n",
      "105  107  108\n",
      " 99  100  105\n",
      " 99  101  102\n",
      "105  106  108\n",
      "105  108  109\n",
      " 99  105  108\n",
      "100  101  105\n",
      "105  106  107\n",
      " 96   99  102\n",
      " 99  105  106\n",
      "109  111  112\n",
      "105  107  109\n",
      " 99  105  107\n",
      "105  108  109\n",
      " 98   99  102\n",
      "102  105  106\n",
      "---  ---  ---\n"
     ]
    }
   ],
   "source": [
    "TRIALS = 16\n",
    "table = []\n",
    "for i in range(TRIALS):\n",
    "    mechanism = SparseIndicator(epsilon=1.0, sensitivity=1.0, threshold=100, cutoff=3)\n",
    "    indices = mechanism.release(values)\n",
    "    table.append(indices)\n",
    "    \n",
    "print(tabulate(table))"
   ]
  },
  {
   "cell_type": "markdown",
   "metadata": {},
   "source": [
    "### Sparse Numeric\n",
    "The `SparseNumeric` mechanism returns perturbed values alongside the indices of the exact values that exceeded the threshold."
   ]
  },
  {
   "cell_type": "markdown",
   "metadata": {},
   "source": [
    "#### Basic Usage"
   ]
  },
  {
   "cell_type": "code",
   "execution_count": 13,
   "metadata": {},
   "outputs": [],
   "source": [
    "from relm.mechanisms import SparseNumeric\n",
    "mechanism = SparseNumeric(epsilon=4.0, sensitivity=1.0, threshold=100, cutoff=3)  \n",
    "indices, perturbed_values = mechanism.release(values)"
   ]
  },
  {
   "cell_type": "markdown",
   "metadata": {},
   "source": [
    "#### Visualise the Results"
   ]
  },
  {
   "cell_type": "code",
   "execution_count": 14,
   "metadata": {},
   "outputs": [
    {
     "name": "stdout",
     "output_type": "stream",
     "text": [
      "-------------------------  -------------------------  -------------------------\n",
      "(105, 116.86301270168042)  (106, 104.66698977630585)  (108, 117.90948712985846)\n",
      "(105, 116.84805969989975)  (106, 100.70492207063944)  (107, 98.94894027765258)\n",
      "(102, 94.60873103816994)   (105, 115.24950254906435)  (106, 101.89972415295779)\n",
      "(102, 85.46495872995001)   (105, 120.65363638370764)  (106, 96.22690888174111)\n",
      "(105, 115.82634760456858)  (107, 99.8266276405775)    (108, 117.31345148742548)\n",
      "(105, 116.89359707120457)  (106, 114.01741777965799)  (107, 99.98686217752402)\n",
      "(105, 115.69634647871135)  (106, 102.40202455918188)  (108, 115.88957359318738)\n",
      "(99, 91.01373517361935)    (105, 113.63138593288022)  (106, 104.51405676017748)\n",
      "(99, 87.87686746797408)    (101, 88.16181562762358)   (105, 116.3749273797439)\n",
      "(99, 91.99253759768908)    (105, 117.06808546034154)  (106, 101.02893703174777)\n",
      "(99, 91.40812978745089)    (105, 118.21763951570028)  (106, 103.326115835167)\n",
      "(101, 93.94811056635808)   (105, 116.366947379458)    (106, 100.71689835435245)\n",
      "(105, 119.58112427822198)  (106, 102.34542989198235)  (108, 113.25067036983091)\n",
      "(105, 117.57580304853036)  (106, 106.4215264247905)   (107, 96.6622728513612)\n",
      "(101, 95.63776704837801)   (102, 93.02601603831863)   (105, 115.77281294006389)\n",
      "(105, 116.93756830657367)  (108, 121.3811954879202)   (109, 126.25681609366438)\n",
      "-------------------------  -------------------------  -------------------------\n"
     ]
    }
   ],
   "source": [
    "TRIALS = 2**4\n",
    "table = []\n",
    "for i in range(TRIALS):\n",
    "    mechanism = SparseNumeric(epsilon=4.0, sensitivity=1.0, threshold=100, cutoff=3)  \n",
    "    indices, perturbed_values = mechanism.release(values)\n",
    "    table.append(list(zip(indices, perturbed_values)))\n",
    "\n",
    "print(tabulate(table))"
   ]
  },
  {
   "cell_type": "code",
   "execution_count": null,
   "metadata": {},
   "outputs": [],
   "source": []
  },
  {
   "cell_type": "code",
   "execution_count": null,
   "metadata": {},
   "outputs": [],
   "source": []
  }
 ],
 "metadata": {
  "kernelspec": {
   "display_name": "Python 3",
   "language": "python",
   "name": "python3"
  },
  "language_info": {
   "codemirror_mode": {
    "name": "ipython",
    "version": 3
   },
   "file_extension": ".py",
   "mimetype": "text/x-python",
   "name": "python",
   "nbconvert_exporter": "python",
   "pygments_lexer": "ipython3",
   "version": "3.7.6"
  }
 },
 "nbformat": 4,
 "nbformat_minor": 4
}
