{
 "cells": [
  {
   "cell_type": "markdown",
   "metadata": {},
   "source": [
    "## Generic Imports"
   ]
  },
  {
   "cell_type": "code",
   "execution_count": 1,
   "metadata": {},
   "outputs": [],
   "source": [
    "import numpy as np\n",
    "import pandas as pd\n",
    "import scipy.sparse as sps\n",
    "import matplotlib.pyplot as plt\n",
    "\n",
    "from collections import Counter\n",
    "from itertools import product\n",
    "\n",
    "# Note: imports from the relm module will be done as needed below"
   ]
  },
  {
   "cell_type": "markdown",
   "metadata": {},
   "source": [
    "## Basic Mechanisms\n",
    "Using RelM for basic differentially private release is fairly striaghtforward.\n",
    "For example, suppose that the database consists of records indicating the age group of each patient who received a COVID-19 test on 09 March, 2020.\n",
    "Each patient is classified as belonging to one of eight age groups: 0-9, 10-19, 20-29, 30-39, 40-49, 50-59, 60-69, and 70+.\n",
    "One common way to summarise this kind of data is with a histogram.\n",
    "That is, to report the number of patients that were classified as belonging to each age group."
   ]
  },
  {
   "cell_type": "markdown",
   "metadata": {},
   "source": [
    "### Data Wrangling"
   ]
  },
  {
   "cell_type": "code",
   "execution_count": 2,
   "metadata": {},
   "outputs": [],
   "source": [
    "# Read the raw data\n",
    "data = pd.read_csv(\"pcr_testing_age_group_2020-03-09.csv\")\n",
    "\n",
    "# Compute the exact query responses\n",
    "exact_counts = data[\"age_group\"].value_counts().sort_index()\n",
    "values = exact_counts.values"
   ]
  },
  {
   "cell_type": "markdown",
   "metadata": {},
   "source": [
    "### Laplace Mechanism\n",
    "The Laplace mechanism can be used to produce a differentially private histogram that summarises the data without compromising the privacy of the patients whose data comprise the database. To do so, Laplace noise is added to the count for each age group and the noisy counts are released instead of the exact counts."
   ]
  },
  {
   "cell_type": "markdown",
   "metadata": {},
   "source": [
    "#### Basic Usage"
   ]
  },
  {
   "cell_type": "code",
   "execution_count": 3,
   "metadata": {},
   "outputs": [],
   "source": [
    "# Create a differentially private release mechanism\n",
    "from relm.mechanisms import LaplaceMechanism\n",
    "mechanism = LaplaceMechanism(epsilon=0.1, sensitivity=1.0, precision=35)\n",
    "perturbed_counts = mechanism.release(values=values.astype(np.float))"
   ]
  },
  {
   "cell_type": "markdown",
   "metadata": {},
   "source": [
    "#### Visualising the Results\n",
    "Notice that the magnitude of the differences between the exact counts and perturbed counts depends only on the value of the privacy paramter `epsilon`. Smaller values of epsilon yield larger perturbations. Larger perturbations yeild lower utility.\n",
    "\n",
    "A simple way to try to understand this effect is to compare the two histograms to one another. If the value of `epsilon` is not too small, then we expect that the two histograms will look similar."
   ]
  },
  {
   "cell_type": "code",
   "execution_count": 4,
   "metadata": {},
   "outputs": [
    {
     "data": {
      "text/html": [
       "<style  type=\"text/css\" >\n",
       "</style><table id=\"T_ead8e_\" ><caption>Test Counts by Age Group</caption><thead>    <tr>        <th class=\"blank level0\" ></th>        <th class=\"col_heading level0 col0\" >Age Group</th>        <th class=\"col_heading level0 col1\" >Exact Counts</th>        <th class=\"col_heading level0 col2\" >Perturbed Counts</th>    </tr></thead><tbody>\n",
       "                <tr>\n",
       "                        <th id=\"T_ead8e_level0_row0\" class=\"row_heading level0 row0\" >0</th>\n",
       "                        <td id=\"T_ead8e_row0_col0\" class=\"data row0 col0\" >0-9</td>\n",
       "                        <td id=\"T_ead8e_row0_col1\" class=\"data row0 col1\" >238</td>\n",
       "                        <td id=\"T_ead8e_row0_col2\" class=\"data row0 col2\" >222.083581</td>\n",
       "            </tr>\n",
       "            <tr>\n",
       "                        <th id=\"T_ead8e_level0_row1\" class=\"row_heading level0 row1\" >1</th>\n",
       "                        <td id=\"T_ead8e_row1_col0\" class=\"data row1 col0\" >10-19</td>\n",
       "                        <td id=\"T_ead8e_row1_col1\" class=\"data row1 col1\" >386</td>\n",
       "                        <td id=\"T_ead8e_row1_col2\" class=\"data row1 col2\" >386.294492</td>\n",
       "            </tr>\n",
       "            <tr>\n",
       "                        <th id=\"T_ead8e_level0_row2\" class=\"row_heading level0 row2\" >2</th>\n",
       "                        <td id=\"T_ead8e_row2_col0\" class=\"data row2 col0\" >20-29</td>\n",
       "                        <td id=\"T_ead8e_row2_col1\" class=\"data row2 col1\" >688</td>\n",
       "                        <td id=\"T_ead8e_row2_col2\" class=\"data row2 col2\" >675.054709</td>\n",
       "            </tr>\n",
       "            <tr>\n",
       "                        <th id=\"T_ead8e_level0_row3\" class=\"row_heading level0 row3\" >3</th>\n",
       "                        <td id=\"T_ead8e_row3_col0\" class=\"data row3 col0\" >30-39</td>\n",
       "                        <td id=\"T_ead8e_row3_col1\" class=\"data row3 col1\" >779</td>\n",
       "                        <td id=\"T_ead8e_row3_col2\" class=\"data row3 col2\" >781.616796</td>\n",
       "            </tr>\n",
       "            <tr>\n",
       "                        <th id=\"T_ead8e_level0_row4\" class=\"row_heading level0 row4\" >4</th>\n",
       "                        <td id=\"T_ead8e_row4_col0\" class=\"data row4 col0\" >40-49</td>\n",
       "                        <td id=\"T_ead8e_row4_col1\" class=\"data row4 col1\" >621</td>\n",
       "                        <td id=\"T_ead8e_row4_col2\" class=\"data row4 col2\" >627.073361</td>\n",
       "            </tr>\n",
       "            <tr>\n",
       "                        <th id=\"T_ead8e_level0_row5\" class=\"row_heading level0 row5\" >5</th>\n",
       "                        <td id=\"T_ead8e_row5_col0\" class=\"data row5 col0\" >50-59</td>\n",
       "                        <td id=\"T_ead8e_row5_col1\" class=\"data row5 col1\" >582</td>\n",
       "                        <td id=\"T_ead8e_row5_col2\" class=\"data row5 col2\" >590.627503</td>\n",
       "            </tr>\n",
       "            <tr>\n",
       "                        <th id=\"T_ead8e_level0_row6\" class=\"row_heading level0 row6\" >6</th>\n",
       "                        <td id=\"T_ead8e_row6_col0\" class=\"data row6 col0\" >60-69</td>\n",
       "                        <td id=\"T_ead8e_row6_col1\" class=\"data row6 col1\" >344</td>\n",
       "                        <td id=\"T_ead8e_row6_col2\" class=\"data row6 col2\" >348.706589</td>\n",
       "            </tr>\n",
       "            <tr>\n",
       "                        <th id=\"T_ead8e_level0_row7\" class=\"row_heading level0 row7\" >7</th>\n",
       "                        <td id=\"T_ead8e_row7_col0\" class=\"data row7 col0\" >70+</td>\n",
       "                        <td id=\"T_ead8e_row7_col1\" class=\"data row7 col1\" >261</td>\n",
       "                        <td id=\"T_ead8e_row7_col2\" class=\"data row7 col2\" >258.880069</td>\n",
       "            </tr>\n",
       "    </tbody></table>"
      ],
      "text/plain": [
       "<pandas.io.formats.style.Styler at 0x7fc34ecea9a0>"
      ]
     },
     "metadata": {},
     "output_type": "display_data"
    },
    {
     "data": {
      "image/png": "[encoded data removed]",
      "text/plain": [
       "<Figure size 432x288 with 1 Axes>"
      ]
     },
     "metadata": {
      "needs_background": "light"
     },
     "output_type": "display_data"
    }
   ],
   "source": [
    "# Extract the set of possible age groups\n",
    "age_groups = np.sort(data[\"age_group\"].unique())\n",
    "# Reformat the age group names for nicer display\n",
    "age_ranges = np.array([a.lstrip(\"AgeGroup_\") for a in age_groups])\n",
    "\n",
    "# Create a dataframe with both exact and perturbed counts\n",
    "column_names = [\"Age Group\", \"Exact Counts\", \"Perturbed Counts\"]\n",
    "column_values = [age_ranges, values, perturbed_counts]\n",
    "table = {k: v for (k, v) in zip(column_names, column_values)}\n",
    "df = pd.DataFrame(table)\n",
    "\n",
    "# Display the two histograms as a table\n",
    "display(df.style.set_caption(\"Test Counts by Age Group\"))\n",
    "\n",
    "# Plot the two histograms as bar graphs\n",
    "df.plot(x=\"Age Group\", title=\"Test Counts by Age Group\", kind=\"bar\", rot=0)\n",
    "plt.show()"
   ]
  },
  {
   "cell_type": "markdown",
   "metadata": {},
   "source": [
    "### Geometric Mechanism\n",
    "In this example, all of the exact counts are integers.  That is because they are the result of so-called counting queries. The perturbed counts produced by the Laplace mechanism are real-valued. In some applications, e.g. when some downstream processing assumes it will receive integer-valued data, we may need the perturbed counts to be integers. One way to achieve this is by simply rounding the outputs of the Laplace mechanism to the nearest integer. Because this differentially private release mechanisms are not affected by this kind of post-processing, doing so will not affect any privacy guarantees.\n",
    "\n",
    "Alternatively, we could use the geometric mechanism to compute the permuted counts.  The geometric mechanism is simply a discrete version of the Laplace mechanism and it produces integer valued perturbations."
   ]
  },
  {
   "cell_type": "markdown",
   "metadata": {},
   "source": [
    "#### Basic Usage"
   ]
  },
  {
   "cell_type": "code",
   "execution_count": 5,
   "metadata": {},
   "outputs": [],
   "source": [
    "# Create a differentially private release mechanism\n",
    "from relm.mechanisms import GeometricMechanism\n",
    "mechanism = GeometricMechanism(epsilon=0.1, sensitivity=1.0)\n",
    "perturbed_counts = mechanism.release(values=values)"
   ]
  },
  {
   "cell_type": "markdown",
   "metadata": {},
   "source": [
    "#### Visualising the Results\n",
    "As with the Laplace mechanism, we can plot the exact histogram alongside the differentially private histogram to get an idea if we have used too small a value for `epsilon`."
   ]
  },
  {
   "cell_type": "code",
   "execution_count": 6,
   "metadata": {},
   "outputs": [
    {
     "data": {
      "text/html": [
       "<style  type=\"text/css\" >\n",
       "</style><table id=\"T_d9f5e_\" ><caption>Test Counts by Age Group</caption><thead>    <tr>        <th class=\"blank level0\" ></th>        <th class=\"col_heading level0 col0\" >Age Group</th>        <th class=\"col_heading level0 col1\" >Exact Counts</th>        <th class=\"col_heading level0 col2\" >Perturbed Counts</th>    </tr></thead><tbody>\n",
       "                <tr>\n",
       "                        <th id=\"T_d9f5e_level0_row0\" class=\"row_heading level0 row0\" >0</th>\n",
       "                        <td id=\"T_d9f5e_row0_col0\" class=\"data row0 col0\" >0-9</td>\n",
       "                        <td id=\"T_d9f5e_row0_col1\" class=\"data row0 col1\" >238</td>\n",
       "                        <td id=\"T_d9f5e_row0_col2\" class=\"data row0 col2\" >243</td>\n",
       "            </tr>\n",
       "            <tr>\n",
       "                        <th id=\"T_d9f5e_level0_row1\" class=\"row_heading level0 row1\" >1</th>\n",
       "                        <td id=\"T_d9f5e_row1_col0\" class=\"data row1 col0\" >10-19</td>\n",
       "                        <td id=\"T_d9f5e_row1_col1\" class=\"data row1 col1\" >386</td>\n",
       "                        <td id=\"T_d9f5e_row1_col2\" class=\"data row1 col2\" >383</td>\n",
       "            </tr>\n",
       "            <tr>\n",
       "                        <th id=\"T_d9f5e_level0_row2\" class=\"row_heading level0 row2\" >2</th>\n",
       "                        <td id=\"T_d9f5e_row2_col0\" class=\"data row2 col0\" >20-29</td>\n",
       "                        <td id=\"T_d9f5e_row2_col1\" class=\"data row2 col1\" >688</td>\n",
       "                        <td id=\"T_d9f5e_row2_col2\" class=\"data row2 col2\" >652</td>\n",
       "            </tr>\n",
       "            <tr>\n",
       "                        <th id=\"T_d9f5e_level0_row3\" class=\"row_heading level0 row3\" >3</th>\n",
       "                        <td id=\"T_d9f5e_row3_col0\" class=\"data row3 col0\" >30-39</td>\n",
       "                        <td id=\"T_d9f5e_row3_col1\" class=\"data row3 col1\" >779</td>\n",
       "                        <td id=\"T_d9f5e_row3_col2\" class=\"data row3 col2\" >780</td>\n",
       "            </tr>\n",
       "            <tr>\n",
       "                        <th id=\"T_d9f5e_level0_row4\" class=\"row_heading level0 row4\" >4</th>\n",
       "                        <td id=\"T_d9f5e_row4_col0\" class=\"data row4 col0\" >40-49</td>\n",
       "                        <td id=\"T_d9f5e_row4_col1\" class=\"data row4 col1\" >621</td>\n",
       "                        <td id=\"T_d9f5e_row4_col2\" class=\"data row4 col2\" >613</td>\n",
       "            </tr>\n",
       "            <tr>\n",
       "                        <th id=\"T_d9f5e_level0_row5\" class=\"row_heading level0 row5\" >5</th>\n",
       "                        <td id=\"T_d9f5e_row5_col0\" class=\"data row5 col0\" >50-59</td>\n",
       "                        <td id=\"T_d9f5e_row5_col1\" class=\"data row5 col1\" >582</td>\n",
       "                        <td id=\"T_d9f5e_row5_col2\" class=\"data row5 col2\" >542</td>\n",
       "            </tr>\n",
       "            <tr>\n",
       "                        <th id=\"T_d9f5e_level0_row6\" class=\"row_heading level0 row6\" >6</th>\n",
       "                        <td id=\"T_d9f5e_row6_col0\" class=\"data row6 col0\" >60-69</td>\n",
       "                        <td id=\"T_d9f5e_row6_col1\" class=\"data row6 col1\" >344</td>\n",
       "                        <td id=\"T_d9f5e_row6_col2\" class=\"data row6 col2\" >332</td>\n",
       "            </tr>\n",
       "            <tr>\n",
       "                        <th id=\"T_d9f5e_level0_row7\" class=\"row_heading level0 row7\" >7</th>\n",
       "                        <td id=\"T_d9f5e_row7_col0\" class=\"data row7 col0\" >70+</td>\n",
       "                        <td id=\"T_d9f5e_row7_col1\" class=\"data row7 col1\" >261</td>\n",
       "                        <td id=\"T_d9f5e_row7_col2\" class=\"data row7 col2\" >253</td>\n",
       "            </tr>\n",
       "    </tbody></table>"
      ],
      "text/plain": [
       "<pandas.io.formats.style.Styler at 0x7fc34bdb06d0>"
      ]
     },
     "metadata": {},
     "output_type": "display_data"
    },
    {
     "data": {
      "image/png": "[encoded data removed]",
      "text/plain": [
       "<Figure size 432x288 with 1 Axes>"
      ]
     },
     "metadata": {
      "needs_background": "light"
     },
     "output_type": "display_data"
    }
   ],
   "source": [
    "# Create a dataframe with both exact and perturbed counts\n",
    "column_values = [age_ranges, values, perturbed_counts]\n",
    "table = {k: v for (k, v) in zip(column_names, column_values)}\n",
    "df = pd.DataFrame(table)\n",
    "\n",
    "# Display the two histograms as a table\n",
    "display(df.style.set_caption(\"Test Counts by Age Group\"))\n",
    "\n",
    "# Plot the two histograms as bar graphs\n",
    "df.plot(x=\"Age Group\", title=\"Test Counts by Age Group\", kind=\"bar\", rot=0)\n",
    "plt.show()"
   ]
  },
  {
   "cell_type": "markdown",
   "metadata": {},
   "source": [
    "### Exponential Mechanism"
   ]
  },
  {
   "cell_type": "markdown",
   "metadata": {},
   "source": [
    "#### Basic Usage\n",
    "The `ExponentialMechanism` does not lend itself to vectorised queries as easily as the `LaplaceMechanism` or `GeometricMechanism`.  So, to produce a histogram query that is comparable to those discussed above we wrap the query releases in a loop and compute them one at a time."
   ]
  },
  {
   "cell_type": "code",
   "execution_count": 8,
   "metadata": {},
   "outputs": [],
   "source": [
    "# Create a differentially private release mechanism\n",
    "from relm.mechanisms import ExponentialMechanism\n",
    "\n",
    "output_range = np.arange(2**10)\n",
    "utility_function = lambda x: -abs(output_range - x)\n",
    "\n",
    "perturbed_counts = np.empty(len(values), dtype=np.int)\n",
    "for i, value in enumerate(values.astype(np.float)):\n",
    "    mechanism = ExponentialMechanism(epsilon=0.1,\n",
    "                                     utility_function=utility_function,\n",
    "                                     sensitivity=1.0,\n",
    "                                     output_range=output_range)\n",
    "    \n",
    "    perturbed_counts[i] = mechanism.release(values=value)"
   ]
  },
  {
   "cell_type": "markdown",
   "metadata": {},
   "source": [
    "#### Visualising the Results"
   ]
  },
  {
   "cell_type": "code",
   "execution_count": 9,
   "metadata": {},
   "outputs": [
    {
     "data": {
      "text/html": [
       "<style  type=\"text/css\" >\n",
       "</style><table id=\"T_85f09_\" ><caption>Test Counts by Age Group</caption><thead>    <tr>        <th class=\"blank level0\" ></th>        <th class=\"col_heading level0 col0\" >Age Group</th>        <th class=\"col_heading level0 col1\" >Exact Counts</th>        <th class=\"col_heading level0 col2\" >Perturbed Counts</th>    </tr></thead><tbody>\n",
       "                <tr>\n",
       "                        <th id=\"T_85f09_level0_row0\" class=\"row_heading level0 row0\" >0</th>\n",
       "                        <td id=\"T_85f09_row0_col0\" class=\"data row0 col0\" >0-9</td>\n",
       "                        <td id=\"T_85f09_row0_col1\" class=\"data row0 col1\" >238</td>\n",
       "                        <td id=\"T_85f09_row0_col2\" class=\"data row0 col2\" >253</td>\n",
       "            </tr>\n",
       "            <tr>\n",
       "                        <th id=\"T_85f09_level0_row1\" class=\"row_heading level0 row1\" >1</th>\n",
       "                        <td id=\"T_85f09_row1_col0\" class=\"data row1 col0\" >10-19</td>\n",
       "                        <td id=\"T_85f09_row1_col1\" class=\"data row1 col1\" >386</td>\n",
       "                        <td id=\"T_85f09_row1_col2\" class=\"data row1 col2\" >409</td>\n",
       "            </tr>\n",
       "            <tr>\n",
       "                        <th id=\"T_85f09_level0_row2\" class=\"row_heading level0 row2\" >2</th>\n",
       "                        <td id=\"T_85f09_row2_col0\" class=\"data row2 col0\" >20-29</td>\n",
       "                        <td id=\"T_85f09_row2_col1\" class=\"data row2 col1\" >688</td>\n",
       "                        <td id=\"T_85f09_row2_col2\" class=\"data row2 col2\" >672</td>\n",
       "            </tr>\n",
       "            <tr>\n",
       "                        <th id=\"T_85f09_level0_row3\" class=\"row_heading level0 row3\" >3</th>\n",
       "                        <td id=\"T_85f09_row3_col0\" class=\"data row3 col0\" >30-39</td>\n",
       "                        <td id=\"T_85f09_row3_col1\" class=\"data row3 col1\" >779</td>\n",
       "                        <td id=\"T_85f09_row3_col2\" class=\"data row3 col2\" >773</td>\n",
       "            </tr>\n",
       "            <tr>\n",
       "                        <th id=\"T_85f09_level0_row4\" class=\"row_heading level0 row4\" >4</th>\n",
       "                        <td id=\"T_85f09_row4_col0\" class=\"data row4 col0\" >40-49</td>\n",
       "                        <td id=\"T_85f09_row4_col1\" class=\"data row4 col1\" >621</td>\n",
       "                        <td id=\"T_85f09_row4_col2\" class=\"data row4 col2\" >569</td>\n",
       "            </tr>\n",
       "            <tr>\n",
       "                        <th id=\"T_85f09_level0_row5\" class=\"row_heading level0 row5\" >5</th>\n",
       "                        <td id=\"T_85f09_row5_col0\" class=\"data row5 col0\" >50-59</td>\n",
       "                        <td id=\"T_85f09_row5_col1\" class=\"data row5 col1\" >582</td>\n",
       "                        <td id=\"T_85f09_row5_col2\" class=\"data row5 col2\" >591</td>\n",
       "            </tr>\n",
       "            <tr>\n",
       "                        <th id=\"T_85f09_level0_row6\" class=\"row_heading level0 row6\" >6</th>\n",
       "                        <td id=\"T_85f09_row6_col0\" class=\"data row6 col0\" >60-69</td>\n",
       "                        <td id=\"T_85f09_row6_col1\" class=\"data row6 col1\" >344</td>\n",
       "                        <td id=\"T_85f09_row6_col2\" class=\"data row6 col2\" >312</td>\n",
       "            </tr>\n",
       "            <tr>\n",
       "                        <th id=\"T_85f09_level0_row7\" class=\"row_heading level0 row7\" >7</th>\n",
       "                        <td id=\"T_85f09_row7_col0\" class=\"data row7 col0\" >70+</td>\n",
       "                        <td id=\"T_85f09_row7_col1\" class=\"data row7 col1\" >261</td>\n",
       "                        <td id=\"T_85f09_row7_col2\" class=\"data row7 col2\" >359</td>\n",
       "            </tr>\n",
       "    </tbody></table>"
      ],
      "text/plain": [
       "<pandas.io.formats.style.Styler at 0x7fc34f7d45e0>"
      ]
     },
     "metadata": {},
     "output_type": "display_data"
    },
    {
     "data": {
      "image/png": "[encoded data removed]",
      "text/plain": [
       "<Figure size 432x288 with 1 Axes>"
      ]
     },
     "metadata": {
      "needs_background": "light"
     },
     "output_type": "display_data"
    }
   ],
   "source": [
    "# Create a dataframe with both exact and perturbed counts\n",
    "column_values = [age_ranges, values, perturbed_counts]\n",
    "table = {k: v for (k, v) in zip(column_names, column_values)}\n",
    "df = pd.DataFrame(table)\n",
    "\n",
    "# Display the two histograms as a table\n",
    "display(df.style.set_caption(\"Test Counts by Age Group\"))\n",
    "\n",
    "# Plot the two histograms as bar graphs\n",
    "df.plot(x=\"Age Group\", title=\"Test Counts by Age Group\", kind=\"bar\", rot=0)\n",
    "plt.show()"
   ]
  },
  {
   "cell_type": "markdown",
   "metadata": {},
   "source": [
    "## Sparse Mechanisms\n",
    "We currently have four mechanisms that take advantage of sparsity to answer more queries about the data for a given privacy budget. All of these mechanisms compare noisy query responses to a noisy threshold value. If a noisy response does not exceed the noisy threshold, then the mechanism reports only that the value did not exceed the threshold.  Otherwise, the mechanism reports that the value exceeded the threshold. Furthermore, in the latter case some mechanisms release more information about the underlying exact count. This extra information is computed using some other differentially private mechanism and therefore imposes some additional privacy costs."
   ]
  },
  {
   "cell_type": "markdown",
   "metadata": {},
   "source": [
    "### Data Wrangling\n",
    "All three of our mechanims share an input format. We require a sequence of exact query responses and a threshold value to which these responses will be compared."
   ]
  },
  {
   "cell_type": "code",
   "execution_count": 10,
   "metadata": {},
   "outputs": [],
   "source": [
    "# Read the raw data\n",
    "fp = '20200811_QLD_dummy_dataset_individual_v2.xlsx'\n",
    "data = pd.read_excel(fp)\n",
    "\n",
    "# Limit our attention to the onset date column\n",
    "data.drop(list(data.columns[1:]), axis=1, inplace=True)  \n",
    "\n",
    "# Remove data with no onset date listed\n",
    "mask = data['ONSET_DATE'].notna()\n",
    "data = data[mask]\n",
    "\n",
    "# Compute the exact query responses\n",
    "queries = [(pd.Timestamp('2020-01-01')  + i*pd.Timedelta('1d'),) for i in range(366)]\n",
    "exact_counts = dict.fromkeys(queries, 0)\n",
    "exact_counts.update(data.value_counts())\n",
    "\n",
    "dates, values = zip(*sorted(exact_counts.items()))\n",
    "values = np.array(values, dtype=np.float64)"
   ]
  },
  {
   "cell_type": "markdown",
   "metadata": {},
   "source": [
    "### Above Threshold\n",
    "The simplest of the sparse release mechanisms simply reports the index of the first query response that exceeds the specified threshold."
   ]
  },
  {
   "cell_type": "markdown",
   "metadata": {},
   "source": [
    "#### Basic Usage"
   ]
  },
  {
   "cell_type": "code",
   "execution_count": 11,
   "metadata": {},
   "outputs": [],
   "source": [
    "from relm.mechanisms import AboveThreshold\n",
    "mechanism = AboveThreshold(epsilon=1.0, sensitivity=1.0, threshold=100)\n",
    "index = mechanism.release(values)"
   ]
  },
  {
   "cell_type": "markdown",
   "metadata": {},
   "source": [
    "#### Empirical Distribution\n",
    "Because `AboveThreshold` returns a single index, we can run many experiments and plot a histogram of the results of those experiments to get an empirical estimate of the distribution of the mechanism's output."
   ]
  },
  {
   "cell_type": "code",
   "execution_count": 12,
   "metadata": {},
   "outputs": [],
   "source": [
    "TRIALS = 2**10\n",
    "threshold = 100\n",
    "results = np.zeros(TRIALS)\n",
    "for i in range(TRIALS):\n",
    "    mechanism = AboveThreshold(epsilon=1.0, sensitivity=1.0, threshold=threshold)\n",
    "    index = mechanism.release(values)\n",
    "    results[i] = index    "
   ]
  },
  {
   "cell_type": "markdown",
   "metadata": {},
   "source": [
    "#### Visualising the Results"
   ]
  },
  {
   "cell_type": "code",
   "execution_count": 13,
   "metadata": {},
   "outputs": [
    {
     "name": "stdout",
     "output_type": "stream",
     "text": [
      "The index of the first exact count that exceeds the threshold is: 105\n",
      "\n"
     ]
    },
    {
     "data": {
      "text/plain": [
       "<matplotlib.lines.Line2D at 0x7fc34f721d90>"
      ]
     },
     "execution_count": 13,
     "metadata": {},
     "output_type": "execute_result"
    },
    {
     "data": {
      "image/png": "[encoded data removed]",
      "text/plain": [
       "<Figure size 432x288 with 1 Axes>"
      ]
     },
     "metadata": {
      "needs_background": "light"
     },
     "output_type": "display_data"
    }
   ],
   "source": [
    "print(\"The index of the first exact count that exceeds the threshold is: %i\\n\" % np.argmax(values >= threshold))\n",
    "\n",
    "histogram = dict.fromkeys(np.arange(min(results), max(results)), 0)\n",
    "histogram.update(Counter(results))\n",
    "\n",
    "plt.xlabel(\"Index\")\n",
    "plt.ylabel(\"Count\")\n",
    "plt.title(\"Distribution of AboveThreshold outputs\")\n",
    "plt.plot(list(histogram.keys()), list(histogram.values()))\n",
    "plt.axvline(x=np.argmax(values >= threshold), color='orange')"
   ]
  },
  {
   "cell_type": "markdown",
   "metadata": {},
   "source": [
    "### Sparse Indicator\n",
    "The `SparseIndicator` is a straightforward extension of the `AboveThreshold` mechanism.  Here, we find the indices of several values that exceeds the specified threshold. The number of indices that this mechanism will return is controlled by the `cutoff` parameter."
   ]
  },
  {
   "cell_type": "markdown",
   "metadata": {},
   "source": [
    "#### Basic Usage"
   ]
  },
  {
   "cell_type": "code",
   "execution_count": 14,
   "metadata": {},
   "outputs": [],
   "source": [
    "from relm.mechanisms import SparseIndicator\n",
    "mechanism = SparseIndicator(epsilon=1.0, sensitivity=1.0, threshold=100, cutoff=3)\n",
    "indices = mechanism.release(values)"
   ]
  },
  {
   "cell_type": "markdown",
   "metadata": {},
   "source": [
    "#### Visualising the Results"
   ]
  },
  {
   "cell_type": "code",
   "execution_count": 15,
   "metadata": {},
   "outputs": [
    {
     "data": {
      "text/html": [
       "<div>\n",
       "<style scoped>\n",
       "    .dataframe tbody tr th:only-of-type {\n",
       "        vertical-align: middle;\n",
       "    }\n",
       "\n",
       "    .dataframe tbody tr th {\n",
       "        vertical-align: top;\n",
       "    }\n",
       "\n",
       "    .dataframe thead th {\n",
       "        text-align: right;\n",
       "    }\n",
       "</style>\n",
       "<table border=\"1\" class=\"dataframe\">\n",
       "  <thead>\n",
       "    <tr style=\"text-align: right;\">\n",
       "      <th></th>\n",
       "      <th>Hit 1</th>\n",
       "      <th>Hit 2</th>\n",
       "      <th>Hit 3</th>\n",
       "      <th>Hit 4</th>\n",
       "    </tr>\n",
       "  </thead>\n",
       "  <tbody>\n",
       "    <tr>\n",
       "      <th>Trial 0</th>\n",
       "      <td>99</td>\n",
       "      <td>105</td>\n",
       "      <td>107</td>\n",
       "      <td>108</td>\n",
       "    </tr>\n",
       "    <tr>\n",
       "      <th>Trial 1</th>\n",
       "      <td>101</td>\n",
       "      <td>102</td>\n",
       "      <td>105</td>\n",
       "      <td>106</td>\n",
       "    </tr>\n",
       "    <tr>\n",
       "      <th>Trial 2</th>\n",
       "      <td>97</td>\n",
       "      <td>104</td>\n",
       "      <td>105</td>\n",
       "      <td>106</td>\n",
       "    </tr>\n",
       "    <tr>\n",
       "      <th>Trial 3</th>\n",
       "      <td>105</td>\n",
       "      <td>106</td>\n",
       "      <td>107</td>\n",
       "      <td>108</td>\n",
       "    </tr>\n",
       "    <tr>\n",
       "      <th>Trial 4</th>\n",
       "      <td>106</td>\n",
       "      <td>108</td>\n",
       "      <td>109</td>\n",
       "      <td>110</td>\n",
       "    </tr>\n",
       "    <tr>\n",
       "      <th>Trial 5</th>\n",
       "      <td>101</td>\n",
       "      <td>105</td>\n",
       "      <td>109</td>\n",
       "      <td>110</td>\n",
       "    </tr>\n",
       "    <tr>\n",
       "      <th>Trial 6</th>\n",
       "      <td>99</td>\n",
       "      <td>100</td>\n",
       "      <td>102</td>\n",
       "      <td>105</td>\n",
       "    </tr>\n",
       "    <tr>\n",
       "      <th>Trial 7</th>\n",
       "      <td>105</td>\n",
       "      <td>106</td>\n",
       "      <td>108</td>\n",
       "      <td>109</td>\n",
       "    </tr>\n",
       "    <tr>\n",
       "      <th>Trial 8</th>\n",
       "      <td>94</td>\n",
       "      <td>101</td>\n",
       "      <td>102</td>\n",
       "      <td>105</td>\n",
       "    </tr>\n",
       "    <tr>\n",
       "      <th>Trial 9</th>\n",
       "      <td>105</td>\n",
       "      <td>108</td>\n",
       "      <td>109</td>\n",
       "      <td>111</td>\n",
       "    </tr>\n",
       "    <tr>\n",
       "      <th>Trial 10</th>\n",
       "      <td>102</td>\n",
       "      <td>105</td>\n",
       "      <td>108</td>\n",
       "      <td>109</td>\n",
       "    </tr>\n",
       "    <tr>\n",
       "      <th>Trial 11</th>\n",
       "      <td>99</td>\n",
       "      <td>102</td>\n",
       "      <td>106</td>\n",
       "      <td>107</td>\n",
       "    </tr>\n",
       "    <tr>\n",
       "      <th>Trial 12</th>\n",
       "      <td>98</td>\n",
       "      <td>99</td>\n",
       "      <td>101</td>\n",
       "      <td>102</td>\n",
       "    </tr>\n",
       "    <tr>\n",
       "      <th>Trial 13</th>\n",
       "      <td>96</td>\n",
       "      <td>101</td>\n",
       "      <td>105</td>\n",
       "      <td>106</td>\n",
       "    </tr>\n",
       "    <tr>\n",
       "      <th>Trial 14</th>\n",
       "      <td>102</td>\n",
       "      <td>105</td>\n",
       "      <td>106</td>\n",
       "      <td>107</td>\n",
       "    </tr>\n",
       "    <tr>\n",
       "      <th>Trial 15</th>\n",
       "      <td>105</td>\n",
       "      <td>108</td>\n",
       "      <td>111</td>\n",
       "      <td>113</td>\n",
       "    </tr>\n",
       "  </tbody>\n",
       "</table>\n",
       "</div>"
      ],
      "text/plain": [
       "          Hit 1  Hit 2  Hit 3  Hit 4\n",
       "Trial 0      99    105    107    108\n",
       "Trial 1     101    102    105    106\n",
       "Trial 2      97    104    105    106\n",
       "Trial 3     105    106    107    108\n",
       "Trial 4     106    108    109    110\n",
       "Trial 5     101    105    109    110\n",
       "Trial 6      99    100    102    105\n",
       "Trial 7     105    106    108    109\n",
       "Trial 8      94    101    102    105\n",
       "Trial 9     105    108    109    111\n",
       "Trial 10    102    105    108    109\n",
       "Trial 11     99    102    106    107\n",
       "Trial 12     98     99    101    102\n",
       "Trial 13     96    101    105    106\n",
       "Trial 14    102    105    106    107\n",
       "Trial 15    105    108    111    113"
      ]
     },
     "metadata": {},
     "output_type": "display_data"
    }
   ],
   "source": [
    "TRIALS = 16\n",
    "cutoff = 4\n",
    "threshold = 100\n",
    "indices = np.empty((TRIALS, cutoff), dtype=np.int)\n",
    "for i in range(TRIALS):\n",
    "    mechanism = SparseIndicator(epsilon=1.0, sensitivity=1.0, threshold=threshold, cutoff=cutoff)\n",
    "    indices[i] = mechanism.release(values)\n",
    "    \n",
    "df = pd.DataFrame(indices,\n",
    "                  columns=[\"Hit %i\" % (j+1) for j in range(cutoff)],\n",
    "                  index=[\"Trial %i\" % i for i in range(TRIALS)])\n",
    "display(df)"
   ]
  },
  {
   "cell_type": "markdown",
   "metadata": {},
   "source": [
    "### Sparse Numeric\n",
    "The `SparseNumeric` mechanism returns perturbed values alongside the indices of the values that exceeded the threshold."
   ]
  },
  {
   "cell_type": "markdown",
   "metadata": {},
   "source": [
    "#### Basic Usage"
   ]
  },
  {
   "cell_type": "code",
   "execution_count": 16,
   "metadata": {},
   "outputs": [],
   "source": [
    "from relm.mechanisms import SparseNumeric\n",
    "mechanism = SparseNumeric(epsilon=1.0, sensitivity=1.0, threshold=100, cutoff=3)  \n",
    "indices, perturbed_values = mechanism.release(values)"
   ]
  },
  {
   "cell_type": "markdown",
   "metadata": {},
   "source": [
    "#### Visualising the Results\n",
    "Notice that in these experiemnts we have set `epsilon=4.0`.  This is a larger value than we use in the other sparse mechanisms. Because the `SparseNumeric` mechanism releases more information about the underlying exact query responses than does `SparseIndices`, for example, it consumes the available privacy budget more quickly.  To achieve comparable utility with respect the the indices returned by the two mechanisms, we therefore need to a larger value for `epsilon`."
   ]
  },
  {
   "cell_type": "code",
   "execution_count": 17,
   "metadata": {},
   "outputs": [
    {
     "data": {
      "text/html": [
       "<div>\n",
       "<style scoped>\n",
       "    .dataframe tbody tr th:only-of-type {\n",
       "        vertical-align: middle;\n",
       "    }\n",
       "\n",
       "    .dataframe tbody tr th {\n",
       "        vertical-align: top;\n",
       "    }\n",
       "\n",
       "    .dataframe thead th {\n",
       "        text-align: right;\n",
       "    }\n",
       "</style>\n",
       "<table border=\"1\" class=\"dataframe\">\n",
       "  <thead>\n",
       "    <tr style=\"text-align: right;\">\n",
       "      <th></th>\n",
       "      <th>Hit 1</th>\n",
       "      <th>Value 1</th>\n",
       "      <th>Hit 2</th>\n",
       "      <th>Value 2</th>\n",
       "      <th>Hit 3</th>\n",
       "      <th>Value 3</th>\n",
       "    </tr>\n",
       "  </thead>\n",
       "  <tbody>\n",
       "    <tr>\n",
       "      <th>Trial 0</th>\n",
       "      <td>101</td>\n",
       "      <td>96.879770</td>\n",
       "      <td>105</td>\n",
       "      <td>113.851512</td>\n",
       "      <td>107</td>\n",
       "      <td>99.414630</td>\n",
       "    </tr>\n",
       "    <tr>\n",
       "      <th>Trial 1</th>\n",
       "      <td>105</td>\n",
       "      <td>121.425789</td>\n",
       "      <td>106</td>\n",
       "      <td>102.608127</td>\n",
       "      <td>108</td>\n",
       "      <td>118.983717</td>\n",
       "    </tr>\n",
       "    <tr>\n",
       "      <th>Trial 2</th>\n",
       "      <td>105</td>\n",
       "      <td>117.123712</td>\n",
       "      <td>106</td>\n",
       "      <td>103.991304</td>\n",
       "      <td>107</td>\n",
       "      <td>101.750900</td>\n",
       "    </tr>\n",
       "    <tr>\n",
       "      <th>Trial 3</th>\n",
       "      <td>105</td>\n",
       "      <td>114.364158</td>\n",
       "      <td>106</td>\n",
       "      <td>105.542748</td>\n",
       "      <td>108</td>\n",
       "      <td>110.053167</td>\n",
       "    </tr>\n",
       "    <tr>\n",
       "      <th>Trial 4</th>\n",
       "      <td>91</td>\n",
       "      <td>67.352507</td>\n",
       "      <td>105</td>\n",
       "      <td>117.092939</td>\n",
       "      <td>106</td>\n",
       "      <td>97.401881</td>\n",
       "    </tr>\n",
       "    <tr>\n",
       "      <th>Trial 5</th>\n",
       "      <td>99</td>\n",
       "      <td>89.696951</td>\n",
       "      <td>105</td>\n",
       "      <td>116.939303</td>\n",
       "      <td>106</td>\n",
       "      <td>103.345784</td>\n",
       "    </tr>\n",
       "    <tr>\n",
       "      <th>Trial 6</th>\n",
       "      <td>105</td>\n",
       "      <td>119.751585</td>\n",
       "      <td>106</td>\n",
       "      <td>103.699765</td>\n",
       "      <td>108</td>\n",
       "      <td>117.385299</td>\n",
       "    </tr>\n",
       "    <tr>\n",
       "      <th>Trial 7</th>\n",
       "      <td>101</td>\n",
       "      <td>92.571017</td>\n",
       "      <td>102</td>\n",
       "      <td>92.378663</td>\n",
       "      <td>105</td>\n",
       "      <td>122.396314</td>\n",
       "    </tr>\n",
       "    <tr>\n",
       "      <th>Trial 8</th>\n",
       "      <td>105</td>\n",
       "      <td>113.760323</td>\n",
       "      <td>106</td>\n",
       "      <td>105.355705</td>\n",
       "      <td>108</td>\n",
       "      <td>120.389826</td>\n",
       "    </tr>\n",
       "    <tr>\n",
       "      <th>Trial 9</th>\n",
       "      <td>99</td>\n",
       "      <td>92.460085</td>\n",
       "      <td>101</td>\n",
       "      <td>94.759696</td>\n",
       "      <td>105</td>\n",
       "      <td>121.876233</td>\n",
       "    </tr>\n",
       "    <tr>\n",
       "      <th>Trial 10</th>\n",
       "      <td>102</td>\n",
       "      <td>92.938386</td>\n",
       "      <td>105</td>\n",
       "      <td>117.156862</td>\n",
       "      <td>106</td>\n",
       "      <td>105.019749</td>\n",
       "    </tr>\n",
       "    <tr>\n",
       "      <th>Trial 11</th>\n",
       "      <td>99</td>\n",
       "      <td>93.968010</td>\n",
       "      <td>101</td>\n",
       "      <td>94.454280</td>\n",
       "      <td>102</td>\n",
       "      <td>93.431528</td>\n",
       "    </tr>\n",
       "    <tr>\n",
       "      <th>Trial 12</th>\n",
       "      <td>105</td>\n",
       "      <td>122.831802</td>\n",
       "      <td>106</td>\n",
       "      <td>105.388515</td>\n",
       "      <td>108</td>\n",
       "      <td>113.150899</td>\n",
       "    </tr>\n",
       "    <tr>\n",
       "      <th>Trial 13</th>\n",
       "      <td>99</td>\n",
       "      <td>91.873998</td>\n",
       "      <td>105</td>\n",
       "      <td>116.898725</td>\n",
       "      <td>106</td>\n",
       "      <td>103.640250</td>\n",
       "    </tr>\n",
       "    <tr>\n",
       "      <th>Trial 14</th>\n",
       "      <td>101</td>\n",
       "      <td>93.329636</td>\n",
       "      <td>105</td>\n",
       "      <td>118.057045</td>\n",
       "      <td>106</td>\n",
       "      <td>103.180338</td>\n",
       "    </tr>\n",
       "    <tr>\n",
       "      <th>Trial 15</th>\n",
       "      <td>105</td>\n",
       "      <td>116.747797</td>\n",
       "      <td>106</td>\n",
       "      <td>104.143762</td>\n",
       "      <td>108</td>\n",
       "      <td>113.922130</td>\n",
       "    </tr>\n",
       "  </tbody>\n",
       "</table>\n",
       "</div>"
      ],
      "text/plain": [
       "          Hit 1     Value 1  Hit 2     Value 2  Hit 3     Value 3\n",
       "Trial 0     101   96.879770    105  113.851512    107   99.414630\n",
       "Trial 1     105  121.425789    106  102.608127    108  118.983717\n",
       "Trial 2     105  117.123712    106  103.991304    107  101.750900\n",
       "Trial 3     105  114.364158    106  105.542748    108  110.053167\n",
       "Trial 4      91   67.352507    105  117.092939    106   97.401881\n",
       "Trial 5      99   89.696951    105  116.939303    106  103.345784\n",
       "Trial 6     105  119.751585    106  103.699765    108  117.385299\n",
       "Trial 7     101   92.571017    102   92.378663    105  122.396314\n",
       "Trial 8     105  113.760323    106  105.355705    108  120.389826\n",
       "Trial 9      99   92.460085    101   94.759696    105  121.876233\n",
       "Trial 10    102   92.938386    105  117.156862    106  105.019749\n",
       "Trial 11     99   93.968010    101   94.454280    102   93.431528\n",
       "Trial 12    105  122.831802    106  105.388515    108  113.150899\n",
       "Trial 13     99   91.873998    105  116.898725    106  103.640250\n",
       "Trial 14    101   93.329636    105  118.057045    106  103.180338\n",
       "Trial 15    105  116.747797    106  104.143762    108  113.922130"
      ]
     },
     "metadata": {},
     "output_type": "display_data"
    }
   ],
   "source": [
    "TRIALS = 2**4\n",
    "cutoff = 3\n",
    "threshold = 100\n",
    "indices = np.empty(shape=(TRIALS, cutoff), dtype=np.int)\n",
    "perturbed_values = np.empty(shape=(TRIALS, cutoff), dtype=np.float)\n",
    "for i in range(TRIALS):\n",
    "    mechanism = SparseNumeric(epsilon=4.0, sensitivity=1.0, threshold=threshold, cutoff=cutoff)  \n",
    "    indices[i], perturbed_values[i] = mechanism.release(values)\n",
    "\n",
    "hit_names = [\"Hit %i\" % (j+1) for j in range(cutoff)]\n",
    "value_names = [\"Value %i\" % (j+1) for j in range(cutoff)]\n",
    "column_pairs = zip(hit_names, value_names)\n",
    "column_names = [val for pair in column_pairs for val in pair]\n",
    "value_pairs = zip(indices.transpose(), perturbed_values.transpose())\n",
    "column_values = [val for pair in value_pairs for val in pair]\n",
    "table = {k: v for (k, v) in zip(column_names, column_values)}\n",
    "df = pd.DataFrame(table, index=[\"Trial %i\" % i for i in range(TRIALS)])\n",
    "display(df)"
   ]
  },
  {
   "cell_type": "markdown",
   "metadata": {},
   "source": [
    "### Report Noisy Max"
   ]
  },
  {
   "cell_type": "markdown",
   "metadata": {},
   "source": [
    "#### Basic Usage"
   ]
  },
  {
   "cell_type": "code",
   "execution_count": 18,
   "metadata": {},
   "outputs": [],
   "source": [
    "from relm.mechanisms import ReportNoisyMax\n",
    "mechanism = ReportNoisyMax(epsilon=1.0)  \n",
    "index, perturbed_value = mechanism.release(values)"
   ]
  },
  {
   "cell_type": "markdown",
   "metadata": {},
   "source": [
    "#### Empirical Distribution\n",
    "Because `ReportNoisyMax` returns a single index and a single value, we can run many experiments and plot a histogram of the results of those experiments to get an empirical estimate of the distribution of the mechanism's output."
   ]
  },
  {
   "cell_type": "code",
   "execution_count": 19,
   "metadata": {},
   "outputs": [],
   "source": [
    "TRIALS = 2**10\n",
    "indices = np.zeros(TRIALS)\n",
    "perturbed_values = np.zeros(TRIALS)\n",
    "for i in range(TRIALS):\n",
    "    mechanism = ReportNoisyMax(epsilon=0.1)\n",
    "    indices[i], perturbed_values[i] = mechanism.release(values)"
   ]
  },
  {
   "cell_type": "markdown",
   "metadata": {},
   "source": [
    "#### Visualising the Results\n",
    "The `ReportNoisyMax` mechanism resturns two values, an index and a perturbed query response. We analyze the distribution of each output individually. "
   ]
  },
  {
   "cell_type": "markdown",
   "metadata": {},
   "source": [
    "##### Indices"
   ]
  },
  {
   "cell_type": "code",
   "execution_count": 20,
   "metadata": {},
   "outputs": [
    {
     "name": "stdout",
     "output_type": "stream",
     "text": [
      "The index of the greatest exact count is: 128\n",
      "\n"
     ]
    },
    {
     "data": {
      "text/plain": [
       "<matplotlib.lines.Line2D at 0x7fc34fe13eb0>"
      ]
     },
     "execution_count": 20,
     "metadata": {},
     "output_type": "execute_result"
    },
    {
     "data": {
      "image/png": "[encoded data removed]",
      "text/plain": [
       "<Figure size 432x288 with 1 Axes>"
      ]
     },
     "metadata": {
      "needs_background": "light"
     },
     "output_type": "display_data"
    }
   ],
   "source": [
    "print(\"The index of the greatest exact count is: %i\\n\" % np.argmax(values))\n",
    "\n",
    "histogram = dict.fromkeys(np.arange(min(indices), max(indices)), 0)\n",
    "histogram.update(Counter(indices))\n",
    "\n",
    "plt.xlabel(\"Index\")\n",
    "plt.ylabel(\"Count\")\n",
    "plt.title(\"Distribution of ReportNoisyMax output indices\")\n",
    "plt.plot(list(histogram.keys()), list(histogram.values()))\n",
    "plt.axvline(x=np.argmax(values), color='orange')"
   ]
  },
  {
   "cell_type": "markdown",
   "metadata": {},
   "source": [
    "##### Perturbed Values"
   ]
  },
  {
   "cell_type": "code",
   "execution_count": 21,
   "metadata": {},
   "outputs": [
    {
     "name": "stdout",
     "output_type": "stream",
     "text": [
      "The greatest exact count is: 156\n",
      "\n"
     ]
    },
    {
     "data": {
      "text/plain": [
       "<matplotlib.lines.Line2D at 0x7fc34ff68a90>"
      ]
     },
     "execution_count": 21,
     "metadata": {},
     "output_type": "execute_result"
    },
    {
     "data": {
      "image/png": "[encoded data removed]",
      "text/plain": [
       "<Figure size 432x288 with 1 Axes>"
      ]
     },
     "metadata": {
      "needs_background": "light"
     },
     "output_type": "display_data"
    }
   ],
   "source": [
    "print(\"The greatest exact count is: %i\\n\" % np.max(values))\n",
    "\n",
    "#histogram = dict.fromkeys(np.arange(min(results), max(results)), 0)\n",
    "#histogram.update(Counter(results))\n",
    "\n",
    "plt.hist(perturbed_values, bins=128)\n",
    "\n",
    "plt.xlabel(\"Perturbed Value\")\n",
    "plt.ylabel(\"Count\")\n",
    "plt.title(\"Distribution of ReportNoisyMax output values\")\n",
    "plt.axvline(x=np.max(values), color='orange')"
   ]
  },
  {
   "cell_type": "markdown",
   "metadata": {},
   "source": [
    "## Correlated Noise Mechanisms"
   ]
  },
  {
   "cell_type": "markdown",
   "metadata": {},
   "source": [
    "### Data Wrangling"
   ]
  },
  {
   "cell_type": "code",
   "execution_count": 22,
   "metadata": {},
   "outputs": [],
   "source": [
    "# Generate some synthetic data\n",
    "data = pd.DataFrame()\n",
    "test_results = np.random.choice([\"Negative\", \"Positive\", \"N/A\"], size=10000, p=[0.55,0.35,0.1]) \n",
    "data[\"Test Result\"] = test_results\n",
    "\n",
    "# Compute a histogram representation of the data\n",
    "from relm.histogram import Histogram\n",
    "hist = Histogram(data)\n",
    "real_database = hist.get_db()\n",
    "db_size = real_database.size\n",
    "\n",
    "# Specify the queries to be answered\n",
    "queries = [[{\"Test Result\": \"Negative\"}, {\"Test Result\": \"Positive\"}],\n",
    "           [{\"Test Result\": \"Positive\"}, {\"Test Result\": \"N/A\"}],\n",
    "           [{\"Test Result\": \"Negative\"}, {\"Test Result\": \"N/A\"}]]\n",
    "queries = sps.vstack([hist.get_query_vector(q) for q in queries])\n",
    "\n",
    "# Compute the exact query responses\n",
    "values = (queries @ real_database)/real_database.sum()"
   ]
  },
  {
   "cell_type": "markdown",
   "metadata": {},
   "source": [
    "### SmallDB Mechanism"
   ]
  },
  {
   "cell_type": "markdown",
   "metadata": {},
   "source": [
    "#### Basic Usage"
   ]
  },
  {
   "cell_type": "code",
   "execution_count": 23,
   "metadata": {},
   "outputs": [],
   "source": [
    "from relm.mechanisms import SmallDB\n",
    "smalldb = SmallDB(epsilon=1.0, alpha=0.05)\n",
    "synthetic_database = smalldb.release(values, queries, db_size)"
   ]
  },
  {
   "cell_type": "markdown",
   "metadata": {},
   "source": [
    "#### Visualising the Results"
   ]
  },
  {
   "cell_type": "code",
   "execution_count": 24,
   "metadata": {},
   "outputs": [
    {
     "data": {
      "text/html": [
       "<div>\n",
       "<style scoped>\n",
       "    .dataframe tbody tr th:only-of-type {\n",
       "        vertical-align: middle;\n",
       "    }\n",
       "\n",
       "    .dataframe tbody tr th {\n",
       "        vertical-align: top;\n",
       "    }\n",
       "\n",
       "    .dataframe thead th {\n",
       "        text-align: right;\n",
       "    }\n",
       "</style>\n",
       "<table border=\"1\" class=\"dataframe\">\n",
       "  <thead>\n",
       "    <tr style=\"text-align: right;\">\n",
       "      <th></th>\n",
       "      <th>Query 0</th>\n",
       "      <th>Query 1</th>\n",
       "      <th>Query 2</th>\n",
       "    </tr>\n",
       "  </thead>\n",
       "  <tbody>\n",
       "    <tr>\n",
       "      <th>Exact Responses</th>\n",
       "      <td>0.898100</td>\n",
       "      <td>0.444100</td>\n",
       "      <td>0.657800</td>\n",
       "    </tr>\n",
       "    <tr>\n",
       "      <th>TRIAL 0</th>\n",
       "      <td>0.900000</td>\n",
       "      <td>0.440833</td>\n",
       "      <td>0.659167</td>\n",
       "    </tr>\n",
       "    <tr>\n",
       "      <th>TRIAL 1</th>\n",
       "      <td>0.899167</td>\n",
       "      <td>0.438333</td>\n",
       "      <td>0.662500</td>\n",
       "    </tr>\n",
       "    <tr>\n",
       "      <th>TRIAL 2</th>\n",
       "      <td>0.896667</td>\n",
       "      <td>0.444167</td>\n",
       "      <td>0.659167</td>\n",
       "    </tr>\n",
       "    <tr>\n",
       "      <th>TRIAL 3</th>\n",
       "      <td>0.897500</td>\n",
       "      <td>0.444167</td>\n",
       "      <td>0.658333</td>\n",
       "    </tr>\n",
       "    <tr>\n",
       "      <th>TRIAL 4</th>\n",
       "      <td>0.896667</td>\n",
       "      <td>0.445000</td>\n",
       "      <td>0.658333</td>\n",
       "    </tr>\n",
       "    <tr>\n",
       "      <th>TRIAL 5</th>\n",
       "      <td>0.900000</td>\n",
       "      <td>0.440833</td>\n",
       "      <td>0.659167</td>\n",
       "    </tr>\n",
       "    <tr>\n",
       "      <th>TRIAL 6</th>\n",
       "      <td>0.896667</td>\n",
       "      <td>0.445833</td>\n",
       "      <td>0.657500</td>\n",
       "    </tr>\n",
       "    <tr>\n",
       "      <th>TRIAL 7</th>\n",
       "      <td>0.899167</td>\n",
       "      <td>0.443333</td>\n",
       "      <td>0.657500</td>\n",
       "    </tr>\n",
       "    <tr>\n",
       "      <th>TRIAL 8</th>\n",
       "      <td>0.898333</td>\n",
       "      <td>0.442500</td>\n",
       "      <td>0.659167</td>\n",
       "    </tr>\n",
       "    <tr>\n",
       "      <th>TRIAL 9</th>\n",
       "      <td>0.899167</td>\n",
       "      <td>0.444167</td>\n",
       "      <td>0.656667</td>\n",
       "    </tr>\n",
       "    <tr>\n",
       "      <th>TRIAL 10</th>\n",
       "      <td>0.896667</td>\n",
       "      <td>0.445833</td>\n",
       "      <td>0.657500</td>\n",
       "    </tr>\n",
       "    <tr>\n",
       "      <th>TRIAL 11</th>\n",
       "      <td>0.899167</td>\n",
       "      <td>0.442500</td>\n",
       "      <td>0.658333</td>\n",
       "    </tr>\n",
       "    <tr>\n",
       "      <th>TRIAL 12</th>\n",
       "      <td>0.900833</td>\n",
       "      <td>0.441667</td>\n",
       "      <td>0.657500</td>\n",
       "    </tr>\n",
       "    <tr>\n",
       "      <th>TRIAL 13</th>\n",
       "      <td>0.897500</td>\n",
       "      <td>0.444167</td>\n",
       "      <td>0.658333</td>\n",
       "    </tr>\n",
       "    <tr>\n",
       "      <th>TRIAL 14</th>\n",
       "      <td>0.899167</td>\n",
       "      <td>0.442500</td>\n",
       "      <td>0.658333</td>\n",
       "    </tr>\n",
       "    <tr>\n",
       "      <th>TRIAL 15</th>\n",
       "      <td>0.896667</td>\n",
       "      <td>0.445833</td>\n",
       "      <td>0.657500</td>\n",
       "    </tr>\n",
       "  </tbody>\n",
       "</table>\n",
       "</div>"
      ],
      "text/plain": [
       "                  Query 0   Query 1   Query 2\n",
       "Exact Responses  0.898100  0.444100  0.657800\n",
       "TRIAL 0          0.900000  0.440833  0.659167\n",
       "TRIAL 1          0.899167  0.438333  0.662500\n",
       "TRIAL 2          0.896667  0.444167  0.659167\n",
       "TRIAL 3          0.897500  0.444167  0.658333\n",
       "TRIAL 4          0.896667  0.445000  0.658333\n",
       "TRIAL 5          0.900000  0.440833  0.659167\n",
       "TRIAL 6          0.896667  0.445833  0.657500\n",
       "TRIAL 7          0.899167  0.443333  0.657500\n",
       "TRIAL 8          0.898333  0.442500  0.659167\n",
       "TRIAL 9          0.899167  0.444167  0.656667\n",
       "TRIAL 10         0.896667  0.445833  0.657500\n",
       "TRIAL 11         0.899167  0.442500  0.658333\n",
       "TRIAL 12         0.900833  0.441667  0.657500\n",
       "TRIAL 13         0.897500  0.444167  0.658333\n",
       "TRIAL 14         0.899167  0.442500  0.658333\n",
       "TRIAL 15         0.896667  0.445833  0.657500"
      ]
     },
     "metadata": {},
     "output_type": "display_data"
    }
   ],
   "source": [
    "TRIALS = 2**4\n",
    "synthetic_responses = np.empty((TRIALS, queries.shape[0]))\n",
    "for i in range(TRIALS):\n",
    "    smalldb = SmallDB(epsilon=1.0, alpha=0.05)\n",
    "    synthetic_database = smalldb.release(values, queries, db_size)\n",
    "    synthetic_responses[i] = (queries @ synthetic_database) / synthetic_database.sum()\n",
    "    \n",
    "df = pd.DataFrame(data=np.row_stack((values, synthetic_responses)),\n",
    "                  columns=[\"Query %i\" % i for i in range(queries.shape[0])],\n",
    "                  index=[\"Exact Responses\"] + [\"TRIAL %i\" % i for i in range(TRIALS)])\n",
    "\n",
    "display(df)"
   ]
  }
 ],
 "metadata": {
  "kernelspec": {
   "display_name": "Python 3",
   "language": "python",
   "name": "python3"
  },
  "language_info": {
   "codemirror_mode": {
    "name": "ipython",
    "version": 3
   },
   "file_extension": ".py",
   "mimetype": "text/x-python",
   "name": "python",
   "nbconvert_exporter": "python",
   "pygments_lexer": "ipython3",
   "version": "3.8.5"
  }
 },
 "nbformat": 4,
 "nbformat_minor": 4
}
