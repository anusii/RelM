{
 "cells": [
  {
   "cell_type": "code",
   "execution_count": 1,
   "metadata": {},
   "outputs": [],
   "source": [
    "import os\n",
    "import pandas as pd\n",
    "from relm.histogram import Histogram\n",
    "from relm.mechanisms import SmallDB\n",
    "import numpy as np\n",
    "from itertools import product\n",
    "import scipy.sparse as sps\n"
   ]
  },
  {
   "cell_type": "code",
   "execution_count": 2,
   "metadata": {},
   "outputs": [],
   "source": [
    "fp = 'examples/20200811_QLD_dummy_dataset_individual_v2.xlsx'\n",
    "df = pd.read_excel(fp)\n",
    "df.drop([\"NOTF_ID\", \"LGA\", \"HHS\"] + list(df.columns[12:]), axis=1, inplace=True)\n",
    "\n",
    "hist = Histogram(df)"
   ]
  },
  {
   "cell_type": "code",
   "execution_count": 3,
   "metadata": {},
   "outputs": [],
   "source": [
    "_cols = [\"AGEGRP5\", \"SEX\", \"INDIG_STATUS\"]\n",
    "queries = []\n",
    "\n",
    "# this creates the queries for:\n",
    "# df.groupby([\"AGEGRP5\", \"SEX\", \"INDIG_STATUS\", col]).count()\n",
    "# where col is in [\"HOSPITALISED\", \"VENTILATED\", \"ICU\", \"DIED_OF_CONDITION\"]\n",
    "for col in [\"HOSPITALISED\", \"VENTILATED\", \"ICU\", \"DIED_OF_CONDITION\"]:\n",
    "    cols = _cols + [col,]\n",
    "    vals = product(*[list(hist.column_sets[hist.column_dict[c]]) for c in cols])\n",
    "    queries.extend(dict(zip(cols, val)) for val in vals)\n",
    "\n",
    "# this creates the queries for:\n",
    "# df.groupby([\"ONSET_DATE\", \"AGEGRP5\", \"INDIG_STATUS\", \"SEX\"]).count()\n",
    "cols = [\"ONSET_DATE\", \"AGEGRP5\", \"INDIG_STATUS\", \"SEX\"]\n",
    "vals = product(*[list(hist.column_sets[hist.column_dict[c]]) for c in cols])\n",
    "queries.extend(dict(zip(cols, val)) for val in vals)\n",
    "\n",
    "# this creates the queries for:\n",
    "# df.groupby([\"ONSET_DATE\", \"POSTCODE\"]).count()\n",
    "cols = [\"ONSET_DATE\", \"POSTCODE\"]\n",
    "vals = product(*[list(hist.column_sets[hist.column_dict[c]]) for c in cols])\n",
    "queries.extend(dict(zip(cols, val)) for val in vals)\n",
    "\n",
    "queries = sps.vstack([hist.get_query_vector(q) for q in queries])"
   ]
  },
  {
   "cell_type": "code",
   "execution_count": 4,
   "metadata": {},
   "outputs": [],
   "source": [
    "smalldb = SmallDB(epsilon=4, data=hist.get_db(), alpha=0.1)"
   ]
  },
  {
   "cell_type": "code",
   "execution_count": 5,
   "metadata": {},
   "outputs": [
    {
     "name": "stdout",
     "output_type": "stream",
     "text": [
      "CPU times: user 2min 1s, sys: 1.68 s, total: 2min 3s\n",
      "Wall time: 2min 3s\n"
     ]
    }
   ],
   "source": [
    "%time x = smalldb.release(queries)"
   ]
  },
  {
   "cell_type": "code",
   "execution_count": 6,
   "metadata": {},
   "outputs": [
    {
     "data": {
      "text/plain": [
       "array([0, 0, 0, ..., 1, 0, 0], dtype=uint64)"
      ]
     },
     "execution_count": 6,
     "metadata": {},
     "output_type": "execute_result"
    }
   ],
   "source": [
    "x"
   ]
  },
  {
   "cell_type": "code",
   "execution_count": 7,
   "metadata": {},
   "outputs": [
    {
     "data": {
      "text/plain": [
       "28554240"
      ]
     },
     "execution_count": 7,
     "metadata": {},
     "output_type": "execute_result"
    }
   ],
   "source": [
    "len(x)"
   ]
  },
  {
   "cell_type": "code",
   "execution_count": null,
   "metadata": {},
   "outputs": [],
   "source": []
  }
 ],
 "metadata": {
  "kernelspec": {
   "display_name": "Python 3",
   "language": "python",
   "name": "python3"
  },
  "language_info": {
   "codemirror_mode": {
    "name": "ipython",
    "version": 3
   },
   "file_extension": ".py",
   "mimetype": "text/x-python",
   "name": "python",
   "nbconvert_exporter": "python",
   "pygments_lexer": "ipython3",
   "version": "3.7.6"
  }
 },
 "nbformat": 4,
 "nbformat_minor": 4
}
